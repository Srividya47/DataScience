{
  "metadata": {
    "kernelspec": {
      "language": "python",
      "display_name": "Python 3",
      "name": "python3"
    },
    "language_info": {
      "name": "python",
      "version": "3.7.12",
      "mimetype": "text/x-python",
      "codemirror_mode": {
        "name": "ipython",
        "version": 3
      },
      "pygments_lexer": "ipython3",
      "nbconvert_exporter": "python",
      "file_extension": ".py"
    },
    "colab": {
      "name": "fork-of-edm-in-ids.ipynb",
      "provenance": [],
      "include_colab_link": true
    }
  },
  "nbformat_minor": 0,
  "nbformat": 4,
  "cells": [
    {
      "cell_type": "markdown",
      "metadata": {
        "id": "view-in-github",
        "colab_type": "text"
      },
      "source": [
        "<a href=\"https://colab.research.google.com/github/Srividya47/DataScience/blob/main/fork_of_edm_in_ids.ipynb\" target=\"_parent\"><img src=\"https://colab.research.google.com/assets/colab-badge.svg\" alt=\"Open In Colab\"/></a>"
      ]
    },
    {
      "cell_type": "code",
      "source": [
        "# This Python 3 environment comes with many helpful analytics libraries installed\n",
        "# It is defined by the kaggle/python Docker imag  e: https://github.com/kaggle/docker-python\n",
        "# For example, here's several helpful packages to load\n",
        "\n",
        "import numpy as np # linear algebra\n",
        "import pandas as pd # data processing, CSV file I/O (e.g. pd.read_csv)\n",
        "\n",
        "# Input data files are available in the read-only \"../input/\" directory\n",
        "# For example, running this (by clicking run or pressing Shift+Enter) will list all files under the input directory\n",
        "\n",
        "import os\n",
        "for dirname, _, filenames in os.walk('/kaggle/input'):\n",
        "    for filename in filenames:\n",
        "        print(os.path.join(dirname, filename))\n",
        "()\n",
        "# You can write up to 20GB to the current directory (/kaggle/working/) that gets preserved as output when you create a version using \"Save & Run All\" \n",
        "# You can also write temporary files to /kaggle/temp/, but they won't be saved outside of the current session"
      ],
      "metadata": {
        "_uuid": "2042bcc7-c715-40ac-8e87-ed015211eca5",
        "_cell_guid": "d91b94b6-4ef9-442c-a178-feb1aaf40011",
        "jupyter": {
          "outputs_hidden": false
        },
        "execution": {
          "iopub.status.busy": "2022-04-07T13:04:20.699089Z",
          "iopub.execute_input": "2022-04-07T13:04:20.699604Z",
          "iopub.status.idle": "2022-04-07T13:04:20.743669Z",
          "shell.execute_reply.started": "2022-04-07T13:04:20.699503Z",
          "shell.execute_reply": "2022-04-07T13:04:20.743022Z"
        },
        "trusted": true,
        "colab": {
          "base_uri": "https://localhost:8080/"
        },
        "id": "R5RE8_qeJoH-",
        "outputId": "3c64f1e0-fff5-40a9-c907-3e7f64cc7886"
      },
      "execution_count": 1,
      "outputs": [
        {
          "output_type": "execute_result",
          "data": {
            "text/plain": [
              "()"
            ]
          },
          "metadata": {},
          "execution_count": 1
        }
      ]
    },
    {
      "cell_type": "code",
      "source": [
        "!pip install pyEDM"
      ],
      "metadata": {
        "_uuid": "e43b83fe-6cc3-43a2-9d49-3c509b749b2e",
        "_cell_guid": "356871f4-973e-4d21-b31e-b4bf49ce6928",
        "jupyter": {
          "outputs_hidden": false
        },
        "execution": {
          "iopub.status.busy": "2022-04-07T13:04:20.856016Z",
          "iopub.execute_input": "2022-04-07T13:04:20.856518Z",
          "iopub.status.idle": "2022-04-07T13:04:32.658931Z",
          "shell.execute_reply.started": "2022-04-07T13:04:20.856468Z",
          "shell.execute_reply": "2022-04-07T13:04:32.658109Z"
        },
        "trusted": true,
        "colab": {
          "base_uri": "https://localhost:8080/"
        },
        "id": "E5GN0pQkJoIF",
        "outputId": "35d6bc74-0934-4c08-e111-907d001d9535"
      },
      "execution_count": 2,
      "outputs": [
        {
          "output_type": "stream",
          "name": "stdout",
          "text": [
            "Collecting pyEDM\n",
            "  Downloading pyEDM-1.10.3.0-cp37-cp37m-manylinux_2_17_x86_64.manylinux2014_x86_64.whl (6.0 MB)\n",
            "\u001b[K     |████████████████████████████████| 6.0 MB 5.2 MB/s \n",
            "\u001b[?25hRequirement already satisfied: pandas>=1.1 in /usr/local/lib/python3.7/dist-packages (from pyEDM) (1.3.5)\n",
            "Collecting pybind11>=2.3\n",
            "  Downloading pybind11-2.9.2-py2.py3-none-any.whl (213 kB)\n",
            "\u001b[K     |████████████████████████████████| 213 kB 33.2 MB/s \n",
            "\u001b[?25hRequirement already satisfied: matplotlib>=2.2 in /usr/local/lib/python3.7/dist-packages (from pyEDM) (3.2.2)\n",
            "Requirement already satisfied: python-dateutil>=2.1 in /usr/local/lib/python3.7/dist-packages (from matplotlib>=2.2->pyEDM) (2.8.2)\n",
            "Requirement already satisfied: numpy>=1.11 in /usr/local/lib/python3.7/dist-packages (from matplotlib>=2.2->pyEDM) (1.21.5)\n",
            "Requirement already satisfied: cycler>=0.10 in /usr/local/lib/python3.7/dist-packages (from matplotlib>=2.2->pyEDM) (0.11.0)\n",
            "Requirement already satisfied: kiwisolver>=1.0.1 in /usr/local/lib/python3.7/dist-packages (from matplotlib>=2.2->pyEDM) (1.4.0)\n",
            "Requirement already satisfied: pyparsing!=2.0.4,!=2.1.2,!=2.1.6,>=2.0.1 in /usr/local/lib/python3.7/dist-packages (from matplotlib>=2.2->pyEDM) (3.0.7)\n",
            "Requirement already satisfied: typing-extensions in /usr/local/lib/python3.7/dist-packages (from kiwisolver>=1.0.1->matplotlib>=2.2->pyEDM) (3.10.0.2)\n",
            "Requirement already satisfied: pytz>=2017.3 in /usr/local/lib/python3.7/dist-packages (from pandas>=1.1->pyEDM) (2018.9)\n",
            "Requirement already satisfied: six>=1.5 in /usr/local/lib/python3.7/dist-packages (from python-dateutil>=2.1->matplotlib>=2.2->pyEDM) (1.15.0)\n",
            "Installing collected packages: pybind11, pyEDM\n",
            "Successfully installed pyEDM-1.10.3.0 pybind11-2.9.2\n"
          ]
        }
      ]
    },
    {
      "cell_type": "code",
      "source": [
        "import matplotlib.pyplot as plt\n",
        "\n",
        "# Creating data\n",
        "year = ['2010', '2002', '2004', '2006', '2008']\n",
        "production = [25, 15, 35, 30, 10]\n",
        "\n",
        "# Plotting barchart\n",
        "plt.plot(year, production)\n",
        "\n",
        "# Saving the figure.\n",
        "plt.savefig(\"output.jpg\")\n",
        "\n",
        "# Saving figure by changing parameter values\n",
        "plt.savefig(\"output1\", facecolor='y', bbox_inches=\"tight\",\n",
        "\t\t\tpad_inches=0.3, transparent=True)"
      ],
      "metadata": {
        "_uuid": "370ef7b6-eab7-4609-ad2f-2a14f9b87859",
        "_cell_guid": "52f2a6d8-e89d-420b-81dc-e3e55ba804a7",
        "jupyter": {
          "outputs_hidden": false
        },
        "execution": {
          "iopub.status.busy": "2022-04-07T13:04:32.660556Z",
          "iopub.execute_input": "2022-04-07T13:04:32.660809Z",
          "iopub.status.idle": "2022-04-07T13:04:32.999730Z",
          "shell.execute_reply.started": "2022-04-07T13:04:32.660780Z",
          "shell.execute_reply": "2022-04-07T13:04:32.998762Z"
        },
        "trusted": true,
        "colab": {
          "base_uri": "https://localhost:8080/",
          "height": 265
        },
        "id": "d8YRSgW0JoIG",
        "outputId": "a3e357c9-860e-4cf5-a081-9e630391c6f2"
      },
      "execution_count": 3,
      "outputs": [
        {
          "output_type": "display_data",
          "data": {
            "text/plain": [
              "<Figure size 432x288 with 1 Axes>"
            ],
            "image/png": "[encoded data removed]"
          },
          "metadata": {
            "needs_background": "light"
          }
        }
      ]
    },
    {
      "cell_type": "code",
      "source": [
        ""
      ],
      "metadata": {
        "_uuid": "7c67898d-4e5a-4733-8dfb-c83e9bb88a54",
        "_cell_guid": "8917cccc-1d81-4e4b-8b70-1c846231a4ce",
        "jupyter": {
          "outputs_hidden": false
        },
        "trusted": true,
        "id": "N55p3dyAJoII"
      },
      "execution_count": 3,
      "outputs": []
    },
    {
      "cell_type": "code",
      "source": [
        "#pyEDM.sampleData"
      ],
      "metadata": {
        "_uuid": "ce4d0670-f4a5-415a-968e-54455c825137",
        "_cell_guid": "872c6346-739b-4250-8384-bdc07992425e",
        "jupyter": {
          "outputs_hidden": false
        },
        "execution": {
          "iopub.status.busy": "2022-04-07T13:04:33.001188Z",
          "iopub.execute_input": "2022-04-07T13:04:33.001507Z",
          "iopub.status.idle": "2022-04-07T13:04:33.006201Z",
          "shell.execute_reply.started": "2022-04-07T13:04:33.001464Z",
          "shell.execute_reply": "2022-04-07T13:04:33.005230Z"
        },
        "trusted": true,
        "id": "5hfhWPFWJoIJ"
      },
      "execution_count": 4,
      "outputs": []
    },
    {
      "cell_type": "code",
      "source": [
        "#pyEDM.sampleData[\"TentMap\"].describe()"
      ],
      "metadata": {
        "_uuid": "3bc8b99e-9c58-43f3-982a-cf37da0f6a15",
        "_cell_guid": "1e47154a-6bd3-4bc0-bbf7-0f5fe2993b38",
        "jupyter": {
          "outputs_hidden": false
        },
        "execution": {
          "iopub.status.busy": "2022-04-07T13:04:33.008571Z",
          "iopub.execute_input": "2022-04-07T13:04:33.008933Z",
          "iopub.status.idle": "2022-04-07T13:04:33.018751Z",
          "shell.execute_reply.started": "2022-04-07T13:04:33.008897Z",
          "shell.execute_reply": "2022-04-07T13:04:33.018044Z"
        },
        "trusted": true,
        "id": "3lbiXkGWJoIK"
      },
      "execution_count": 5,
      "outputs": []
    },
    {
      "cell_type": "code",
      "source": [
        "#dir(pyEDM)"
      ],
      "metadata": {
        "_uuid": "e87ae815-e4e2-4d45-b476-2ee6db33698a",
        "_cell_guid": "6424c540-f7a7-4c5e-a1d6-a3a4979b9584",
        "jupyter": {
          "outputs_hidden": false
        },
        "execution": {
          "iopub.status.busy": "2022-04-07T13:04:33.019999Z",
          "iopub.execute_input": "2022-04-07T13:04:33.020386Z",
          "iopub.status.idle": "2022-04-07T13:04:33.031540Z",
          "shell.execute_reply.started": "2022-04-07T13:04:33.020355Z",
          "shell.execute_reply": "2022-04-07T13:04:33.030842Z"
        },
        "trusted": true,
        "id": "e5Z49dmmJoIL"
      },
      "execution_count": 6,
      "outputs": []
    },
    {
      "cell_type": "code",
      "source": [
        ""
      ],
      "metadata": {
        "_uuid": "d0c11f91-d7cb-4af4-95c7-1055fdf9dcb2",
        "_cell_guid": "fb71c6fa-9bae-424d-808b-a4a2af0473e2",
        "jupyter": {
          "outputs_hidden": false
        },
        "trusted": true,
        "id": "JGmhH83FJoIN"
      },
      "execution_count": 6,
      "outputs": []
    },
    {
      "cell_type": "code",
      "source": [
        "import pyEDM\n",
        "pyEDM.Examples()"
      ],
      "metadata": {
        "_uuid": "68be7fb9-8f26-48b2-8aab-eacbd7760908",
        "_cell_guid": "e338b3ef-78ec-4eae-a78d-1e9f14ce5f1c",
        "jupyter": {
          "outputs_hidden": false
        },
        "execution": {
          "iopub.status.busy": "2022-04-07T13:04:33.032563Z",
          "iopub.execute_input": "2022-04-07T13:04:33.033233Z",
          "iopub.status.idle": "2022-04-07T13:04:36.544736Z",
          "shell.execute_reply.started": "2022-04-07T13:04:33.033191Z",
          "shell.execute_reply": "2022-04-07T13:04:36.543824Z"
        },
        "trusted": true,
        "colab": {
          "base_uri": "https://localhost:8080/",
          "height": 1000
        },
        "id": "WGxw9_HEJoIP",
        "outputId": "53ad61d5-03c6-4b1f-844b-a2c1fbb48f16"
      },
      "execution_count": 7,
      "outputs": [
        {
          "output_type": "stream",
          "name": "stdout",
          "text": [
            "EmbedDimension( dataFrame = sampleData[\"TentMap\"], lib = \"1 100\", pred = \"201 500\", columns = \"TentMap\", target = \"TentMap\") \n",
            "\n"
          ]
        },
        {
          "output_type": "display_data",
          "data": {
            "text/plain": [
              "<Figure size 432x288 with 1 Axes>"
            ],
            "image/png": "[encoded data removed]"
          },
          "metadata": {
            "needs_background": "light"
          }
        },
        {
          "output_type": "stream",
          "name": "stdout",
          "text": [
            "PredictInterval( dataFrame = sampleData[\"TentMap\"], lib = \"1 100\", pred = \"201 500\", E = 2, columns = \"TentMap\", target = \"TentMap\") \n",
            "\n"
          ]
        },
        {
          "output_type": "display_data",
          "data": {
            "text/plain": [
              "<Figure size 432x288 with 1 Axes>"
            ],
            "image/png": "[encoded data removed]"
          },
          "metadata": {
            "needs_background": "light"
          }
        },
        {
          "output_type": "stream",
          "name": "stdout",
          "text": [
            "PredictNonlinear( dataFrame = sampleData[\"TentMapNoise\"], lib = \"1 100\", pred = \"201 500\", E = 2, columns = \"TentMap\", target = \"TentMap\" ) \n",
            "\n"
          ]
        },
        {
          "output_type": "display_data",
          "data": {
            "text/plain": [
              "<Figure size 432x288 with 1 Axes>"
            ],
            "image/png": "[encoded data removed]"
          },
          "metadata": {
            "needs_background": "light"
          }
        },
        {
          "output_type": "stream",
          "name": "stdout",
          "text": [
            "Simplex( dataFrame = sampleData[\"block_3sp\"], lib = \"1 99\", pred = \"100 195\",  E = 3, embedded = True, showPlot = True, const_pred = True, columns=\"x_t y_t z_t\", target=\"x_t\") \n",
            "\n"
          ]
        },
        {
          "output_type": "display_data",
          "data": {
            "text/plain": [
              "<Figure size 432x288 with 1 Axes>"
            ],
            "image/png": "[encoded data removed]"
          },
          "metadata": {
            "needs_background": "light"
          }
        },
        {
          "output_type": "stream",
          "name": "stdout",
          "text": [
            "Simplex( dataFrame = sampleData[\"block_3sp\"], lib = \"1 99\", pred = \"105 190\",  E = 3, showPlot = True, const_pred = True, columns = \"x_t\", target = \"x_t\") \n",
            "\n"
          ]
        },
        {
          "output_type": "display_data",
          "data": {
            "text/plain": [
              "<Figure size 432x288 with 1 Axes>"
            ],
            "image/png": "[encoded data removed]"
          },
          "metadata": {
            "needs_background": "light"
          }
        },
        {
          "output_type": "stream",
          "name": "stdout",
          "text": [
            "Multiview( dataFrame = sampleData[\"block_3sp\"], lib = \"1 99\", pred = \"105 190\",  E = 3, columns = \"x_t y_t z_t\", target = \"x_t\", showPlot = True) \n",
            "\n"
          ]
        },
        {
          "output_type": "display_data",
          "data": {
            "text/plain": [
              "<Figure size 432x288 with 1 Axes>"
            ],
            "image/png": "[encoded data removed]"
          },
          "metadata": {
            "needs_background": "light"
          }
        },
        {
          "output_type": "stream",
          "name": "stdout",
          "text": [
            "SMap( dataFrame = sampleData[\"circle\"], lib = \"1 100\", pred = \"110 190\", theta = 4, E = 2, verbose = False, showPlot = True, embedded = True, columns = \"x y\", target = \"x\") \n",
            "\n"
          ]
        },
        {
          "output_type": "display_data",
          "data": {
            "text/plain": [
              "<Figure size 432x288 with 1 Axes>"
            ],
            "image/png": "[encoded data removed]"
          },
          "metadata": {
            "needs_background": "light"
          }
        },
        {
          "output_type": "display_data",
          "data": {
            "text/plain": [
              "<Figure size 432x288 with 3 Axes>"
            ],
            "image/png": "[encoded data removed]"
          },
          "metadata": {
            "needs_background": "light"
          }
        },
        {
          "output_type": "stream",
          "name": "stdout",
          "text": [
            "CCM( dataFrame = sampleData[\"sardine_anchovy_sst\"], E = 3, Tp = 0, columns = \"anchovy\", target = \"np_sst\", libSizes = \"10 70 10\", sample = 100, verbose = False,  showPlot = True) \n",
            "\n"
          ]
        },
        {
          "output_type": "display_data",
          "data": {
            "text/plain": [
              "<Figure size 432x288 with 1 Axes>"
            ],
            "image/png": "[encoded data removed]"
          },
          "metadata": {
            "needs_background": "light"
          }
        }
      ]
    },
    {
      "cell_type": "code",
      "source": [
        ""
      ],
      "metadata": {
        "_uuid": "1494ae5b-da0b-476b-9e21-fb75a07a1c00",
        "_cell_guid": "a9775bf2-360b-4338-8086-4d5f3cb73ab7",
        "jupyter": {
          "outputs_hidden": false
        },
        "trusted": true,
        "id": "bqrfjHViJoIR"
      },
      "execution_count": 7,
      "outputs": []
    },
    {
      "cell_type": "code",
      "source": [
        "df = pd.read_csv(\"../input/mqtt-ids/scan_A.csv\" )"
      ],
      "metadata": {
        "_uuid": "ab9647ce-7304-4c21-a7c2-a4f927629503",
        "_cell_guid": "fc24136c-c915-4c53-880a-90e45cf22c85",
        "jupyter": {
          "outputs_hidden": false
        },
        "execution": {
          "iopub.status.busy": "2022-04-07T13:04:36.546092Z",
          "iopub.execute_input": "2022-04-07T13:04:36.546876Z",
          "iopub.status.idle": "2022-04-07T13:04:37.073509Z",
          "shell.execute_reply.started": "2022-04-07T13:04:36.546828Z",
          "shell.execute_reply": "2022-04-07T13:04:37.072487Z"
        },
        "trusted": true,
        "colab": {
          "base_uri": "https://localhost:8080/",
          "height": 331
        },
        "id": "nsYmfzDAJoIS",
        "outputId": "6c95aadc-a609-4f46-c04b-62da0486be7d"
      },
      "execution_count": 8,
      "outputs": [
        {
          "output_type": "error",
          "ename": "FileNotFoundError",
          "evalue": "ignored",
          "traceback": [
            "\u001b[0;31m---------------------------------------------------------------------------\u001b[0m",
            "\u001b[0;31mFileNotFoundError\u001b[0m                         Traceback (most recent call last)",
            "\u001b[0;32m<ipython-input-8-b224171e105f>\u001b[0m in \u001b[0;36m<module>\u001b[0;34m()\u001b[0m\n\u001b[0;32m----> 1\u001b[0;31m \u001b[0mdf\u001b[0m \u001b[0;34m=\u001b[0m \u001b[0mpd\u001b[0m\u001b[0;34m.\u001b[0m\u001b[0mread_csv\u001b[0m\u001b[0;34m(\u001b[0m\u001b[0;34m\"../input/mqtt-ids/scan_A.csv\"\u001b[0m \u001b[0;34m)\u001b[0m\u001b[0;34m\u001b[0m\u001b[0;34m\u001b[0m\u001b[0m\n\u001b[0m",
            "\u001b[0;32m/usr/local/lib/python3.7/dist-packages/pandas/util/_decorators.py\u001b[0m in \u001b[0;36mwrapper\u001b[0;34m(*args, **kwargs)\u001b[0m\n\u001b[1;32m    309\u001b[0m                     \u001b[0mstacklevel\u001b[0m\u001b[0;34m=\u001b[0m\u001b[0mstacklevel\u001b[0m\u001b[0;34m,\u001b[0m\u001b[0;34m\u001b[0m\u001b[0;34m\u001b[0m\u001b[0m\n\u001b[1;32m    310\u001b[0m                 )\n\u001b[0;32m--> 311\u001b[0;31m             \u001b[0;32mreturn\u001b[0m \u001b[0mfunc\u001b[0m\u001b[0;34m(\u001b[0m\u001b[0;34m*\u001b[0m\u001b[0margs\u001b[0m\u001b[0;34m,\u001b[0m \u001b[0;34m**\u001b[0m\u001b[0mkwargs\u001b[0m\u001b[0;34m)\u001b[0m\u001b[0;34m\u001b[0m\u001b[0;34m\u001b[0m\u001b[0m\n\u001b[0m\u001b[1;32m    312\u001b[0m \u001b[0;34m\u001b[0m\u001b[0m\n\u001b[1;32m    313\u001b[0m         \u001b[0;32mreturn\u001b[0m \u001b[0mwrapper\u001b[0m\u001b[0;34m\u001b[0m\u001b[0;34m\u001b[0m\u001b[0m\n",
            "\u001b[0;32m/usr/local/lib/python3.7/dist-packages/pandas/io/parsers/readers.py\u001b[0m in \u001b[0;36mread_csv\u001b[0;34m(filepath_or_buffer, sep, delimiter, header, names, index_col, usecols, squeeze, prefix, mangle_dupe_cols, dtype, engine, converters, true_values, false_values, skipinitialspace, skiprows, skipfooter, nrows, na_values, keep_default_na, na_filter, verbose, skip_blank_lines, parse_dates, infer_datetime_format, keep_date_col, date_parser, dayfirst, cache_dates, iterator, chunksize, compression, thousands, decimal, lineterminator, quotechar, quoting, doublequote, escapechar, comment, encoding, encoding_errors, dialect, error_bad_lines, warn_bad_lines, on_bad_lines, delim_whitespace, low_memory, memory_map, float_precision, storage_options)\u001b[0m\n\u001b[1;32m    584\u001b[0m     \u001b[0mkwds\u001b[0m\u001b[0;34m.\u001b[0m\u001b[0mupdate\u001b[0m\u001b[0;34m(\u001b[0m\u001b[0mkwds_defaults\u001b[0m\u001b[0;34m)\u001b[0m\u001b[0;34m\u001b[0m\u001b[0;34m\u001b[0m\u001b[0m\n\u001b[1;32m    585\u001b[0m \u001b[0;34m\u001b[0m\u001b[0m\n\u001b[0;32m--> 586\u001b[0;31m     \u001b[0;32mreturn\u001b[0m \u001b[0m_read\u001b[0m\u001b[0;34m(\u001b[0m\u001b[0mfilepath_or_buffer\u001b[0m\u001b[0;34m,\u001b[0m \u001b[0mkwds\u001b[0m\u001b[0;34m)\u001b[0m\u001b[0;34m\u001b[0m\u001b[0;34m\u001b[0m\u001b[0m\n\u001b[0m\u001b[1;32m    587\u001b[0m \u001b[0;34m\u001b[0m\u001b[0m\n\u001b[1;32m    588\u001b[0m \u001b[0;34m\u001b[0m\u001b[0m\n",
            "\u001b[0;32m/usr/local/lib/python3.7/dist-packages/pandas/io/parsers/readers.py\u001b[0m in \u001b[0;36m_read\u001b[0;34m(filepath_or_buffer, kwds)\u001b[0m\n\u001b[1;32m    480\u001b[0m \u001b[0;34m\u001b[0m\u001b[0m\n\u001b[1;32m    481\u001b[0m     \u001b[0;31m# Create the parser.\u001b[0m\u001b[0;34m\u001b[0m\u001b[0;34m\u001b[0m\u001b[0;34m\u001b[0m\u001b[0m\n\u001b[0;32m--> 482\u001b[0;31m     \u001b[0mparser\u001b[0m \u001b[0;34m=\u001b[0m \u001b[0mTextFileReader\u001b[0m\u001b[0;34m(\u001b[0m\u001b[0mfilepath_or_buffer\u001b[0m\u001b[0;34m,\u001b[0m \u001b[0;34m**\u001b[0m\u001b[0mkwds\u001b[0m\u001b[0;34m)\u001b[0m\u001b[0;34m\u001b[0m\u001b[0;34m\u001b[0m\u001b[0m\n\u001b[0m\u001b[1;32m    483\u001b[0m \u001b[0;34m\u001b[0m\u001b[0m\n\u001b[1;32m    484\u001b[0m     \u001b[0;32mif\u001b[0m \u001b[0mchunksize\u001b[0m \u001b[0;32mor\u001b[0m \u001b[0miterator\u001b[0m\u001b[0;34m:\u001b[0m\u001b[0;34m\u001b[0m\u001b[0;34m\u001b[0m\u001b[0m\n",
            "\u001b[0;32m/usr/local/lib/python3.7/dist-packages/pandas/io/parsers/readers.py\u001b[0m in \u001b[0;36m__init__\u001b[0;34m(self, f, engine, **kwds)\u001b[0m\n\u001b[1;32m    809\u001b[0m             \u001b[0mself\u001b[0m\u001b[0;34m.\u001b[0m\u001b[0moptions\u001b[0m\u001b[0;34m[\u001b[0m\u001b[0;34m\"has_index_names\"\u001b[0m\u001b[0;34m]\u001b[0m \u001b[0;34m=\u001b[0m \u001b[0mkwds\u001b[0m\u001b[0;34m[\u001b[0m\u001b[0;34m\"has_index_names\"\u001b[0m\u001b[0;34m]\u001b[0m\u001b[0;34m\u001b[0m\u001b[0;34m\u001b[0m\u001b[0m\n\u001b[1;32m    810\u001b[0m \u001b[0;34m\u001b[0m\u001b[0m\n\u001b[0;32m--> 811\u001b[0;31m         \u001b[0mself\u001b[0m\u001b[0;34m.\u001b[0m\u001b[0m_engine\u001b[0m \u001b[0;34m=\u001b[0m \u001b[0mself\u001b[0m\u001b[0;34m.\u001b[0m\u001b[0m_make_engine\u001b[0m\u001b[0;34m(\u001b[0m\u001b[0mself\u001b[0m\u001b[0;34m.\u001b[0m\u001b[0mengine\u001b[0m\u001b[0;34m)\u001b[0m\u001b[0;34m\u001b[0m\u001b[0;34m\u001b[0m\u001b[0m\n\u001b[0m\u001b[1;32m    812\u001b[0m \u001b[0;34m\u001b[0m\u001b[0m\n\u001b[1;32m    813\u001b[0m     \u001b[0;32mdef\u001b[0m \u001b[0mclose\u001b[0m\u001b[0;34m(\u001b[0m\u001b[0mself\u001b[0m\u001b[0;34m)\u001b[0m\u001b[0;34m:\u001b[0m\u001b[0;34m\u001b[0m\u001b[0;34m\u001b[0m\u001b[0m\n",
            "\u001b[0;32m/usr/local/lib/python3.7/dist-packages/pandas/io/parsers/readers.py\u001b[0m in \u001b[0;36m_make_engine\u001b[0;34m(self, engine)\u001b[0m\n\u001b[1;32m   1038\u001b[0m             )\n\u001b[1;32m   1039\u001b[0m         \u001b[0;31m# error: Too many arguments for \"ParserBase\"\u001b[0m\u001b[0;34m\u001b[0m\u001b[0;34m\u001b[0m\u001b[0;34m\u001b[0m\u001b[0m\n\u001b[0;32m-> 1040\u001b[0;31m         \u001b[0;32mreturn\u001b[0m \u001b[0mmapping\u001b[0m\u001b[0;34m[\u001b[0m\u001b[0mengine\u001b[0m\u001b[0;34m]\u001b[0m\u001b[0;34m(\u001b[0m\u001b[0mself\u001b[0m\u001b[0;34m.\u001b[0m\u001b[0mf\u001b[0m\u001b[0;34m,\u001b[0m \u001b[0;34m**\u001b[0m\u001b[0mself\u001b[0m\u001b[0;34m.\u001b[0m\u001b[0moptions\u001b[0m\u001b[0;34m)\u001b[0m  \u001b[0;31m# type: ignore[call-arg]\u001b[0m\u001b[0;34m\u001b[0m\u001b[0;34m\u001b[0m\u001b[0m\n\u001b[0m\u001b[1;32m   1041\u001b[0m \u001b[0;34m\u001b[0m\u001b[0m\n\u001b[1;32m   1042\u001b[0m     \u001b[0;32mdef\u001b[0m \u001b[0m_failover_to_python\u001b[0m\u001b[0;34m(\u001b[0m\u001b[0mself\u001b[0m\u001b[0;34m)\u001b[0m\u001b[0;34m:\u001b[0m\u001b[0;34m\u001b[0m\u001b[0;34m\u001b[0m\u001b[0m\n",
            "\u001b[0;32m/usr/local/lib/python3.7/dist-packages/pandas/io/parsers/c_parser_wrapper.py\u001b[0m in \u001b[0;36m__init__\u001b[0;34m(self, src, **kwds)\u001b[0m\n\u001b[1;32m     49\u001b[0m \u001b[0;34m\u001b[0m\u001b[0m\n\u001b[1;32m     50\u001b[0m         \u001b[0;31m# open handles\u001b[0m\u001b[0;34m\u001b[0m\u001b[0;34m\u001b[0m\u001b[0;34m\u001b[0m\u001b[0m\n\u001b[0;32m---> 51\u001b[0;31m         \u001b[0mself\u001b[0m\u001b[0;34m.\u001b[0m\u001b[0m_open_handles\u001b[0m\u001b[0;34m(\u001b[0m\u001b[0msrc\u001b[0m\u001b[0;34m,\u001b[0m \u001b[0mkwds\u001b[0m\u001b[0;34m)\u001b[0m\u001b[0;34m\u001b[0m\u001b[0;34m\u001b[0m\u001b[0m\n\u001b[0m\u001b[1;32m     52\u001b[0m         \u001b[0;32massert\u001b[0m \u001b[0mself\u001b[0m\u001b[0;34m.\u001b[0m\u001b[0mhandles\u001b[0m \u001b[0;32mis\u001b[0m \u001b[0;32mnot\u001b[0m \u001b[0;32mNone\u001b[0m\u001b[0;34m\u001b[0m\u001b[0;34m\u001b[0m\u001b[0m\n\u001b[1;32m     53\u001b[0m \u001b[0;34m\u001b[0m\u001b[0m\n",
            "\u001b[0;32m/usr/local/lib/python3.7/dist-packages/pandas/io/parsers/base_parser.py\u001b[0m in \u001b[0;36m_open_handles\u001b[0;34m(self, src, kwds)\u001b[0m\n\u001b[1;32m    227\u001b[0m             \u001b[0mmemory_map\u001b[0m\u001b[0;34m=\u001b[0m\u001b[0mkwds\u001b[0m\u001b[0;34m.\u001b[0m\u001b[0mget\u001b[0m\u001b[0;34m(\u001b[0m\u001b[0;34m\"memory_map\"\u001b[0m\u001b[0;34m,\u001b[0m \u001b[0;32mFalse\u001b[0m\u001b[0;34m)\u001b[0m\u001b[0;34m,\u001b[0m\u001b[0;34m\u001b[0m\u001b[0;34m\u001b[0m\u001b[0m\n\u001b[1;32m    228\u001b[0m             \u001b[0mstorage_options\u001b[0m\u001b[0;34m=\u001b[0m\u001b[0mkwds\u001b[0m\u001b[0;34m.\u001b[0m\u001b[0mget\u001b[0m\u001b[0;34m(\u001b[0m\u001b[0;34m\"storage_options\"\u001b[0m\u001b[0;34m,\u001b[0m \u001b[0;32mNone\u001b[0m\u001b[0;34m)\u001b[0m\u001b[0;34m,\u001b[0m\u001b[0;34m\u001b[0m\u001b[0;34m\u001b[0m\u001b[0m\n\u001b[0;32m--> 229\u001b[0;31m             \u001b[0merrors\u001b[0m\u001b[0;34m=\u001b[0m\u001b[0mkwds\u001b[0m\u001b[0;34m.\u001b[0m\u001b[0mget\u001b[0m\u001b[0;34m(\u001b[0m\u001b[0;34m\"encoding_errors\"\u001b[0m\u001b[0;34m,\u001b[0m \u001b[0;34m\"strict\"\u001b[0m\u001b[0;34m)\u001b[0m\u001b[0;34m,\u001b[0m\u001b[0;34m\u001b[0m\u001b[0;34m\u001b[0m\u001b[0m\n\u001b[0m\u001b[1;32m    230\u001b[0m         )\n\u001b[1;32m    231\u001b[0m \u001b[0;34m\u001b[0m\u001b[0m\n",
            "\u001b[0;32m/usr/local/lib/python3.7/dist-packages/pandas/io/common.py\u001b[0m in \u001b[0;36mget_handle\u001b[0;34m(path_or_buf, mode, encoding, compression, memory_map, is_text, errors, storage_options)\u001b[0m\n\u001b[1;32m    705\u001b[0m                 \u001b[0mencoding\u001b[0m\u001b[0;34m=\u001b[0m\u001b[0mioargs\u001b[0m\u001b[0;34m.\u001b[0m\u001b[0mencoding\u001b[0m\u001b[0;34m,\u001b[0m\u001b[0;34m\u001b[0m\u001b[0;34m\u001b[0m\u001b[0m\n\u001b[1;32m    706\u001b[0m                 \u001b[0merrors\u001b[0m\u001b[0;34m=\u001b[0m\u001b[0merrors\u001b[0m\u001b[0;34m,\u001b[0m\u001b[0;34m\u001b[0m\u001b[0;34m\u001b[0m\u001b[0m\n\u001b[0;32m--> 707\u001b[0;31m                 \u001b[0mnewline\u001b[0m\u001b[0;34m=\u001b[0m\u001b[0;34m\"\"\u001b[0m\u001b[0;34m,\u001b[0m\u001b[0;34m\u001b[0m\u001b[0;34m\u001b[0m\u001b[0m\n\u001b[0m\u001b[1;32m    708\u001b[0m             )\n\u001b[1;32m    709\u001b[0m         \u001b[0;32melse\u001b[0m\u001b[0;34m:\u001b[0m\u001b[0;34m\u001b[0m\u001b[0;34m\u001b[0m\u001b[0m\n",
            "\u001b[0;31mFileNotFoundError\u001b[0m: [Errno 2] No such file or directory: '../input/mqtt-ids/scan_A.csv'"
          ]
        }
      ]
    },
    {
      "cell_type": "code",
      "source": [
        "df"
      ],
      "metadata": {
        "_uuid": "ba2fe251-3c1c-4c57-8ea7-45ba5fa5e4af",
        "_cell_guid": "e145eb9c-95a5-4ab8-b995-4b44881ea106",
        "jupyter": {
          "outputs_hidden": false
        },
        "execution": {
          "iopub.status.busy": "2022-04-07T13:04:37.074942Z",
          "iopub.execute_input": "2022-04-07T13:04:37.075298Z",
          "iopub.status.idle": "2022-04-07T13:04:37.145204Z",
          "shell.execute_reply.started": "2022-04-07T13:04:37.075254Z",
          "shell.execute_reply": "2022-04-07T13:04:37.144541Z"
        },
        "trusted": true,
        "id": "YGFH4TJQJoIT"
      },
      "execution_count": null,
      "outputs": []
    },
    {
      "cell_type": "code",
      "source": [
        "# removing columns that have all nan elements and those rows that have the same value as it's column name\n",
        "nanAttr = []\n",
        "\n",
        "for i in df.columns:\n",
        "    df.drop(df[df[i] == i].index, inplace = True)\n",
        "    count = df[i].isna().sum()\n",
        "    if count > len(df)*0.9 :\n",
        "        nanAttr.append(i)\n",
        "        \n",
        "    #print(i,count)\n",
        "    #if count == len(df) :\n",
        "     #   nanAttr.append(i)\n",
        "#print(nanAttr)\n",
        "\n",
        "#index_names = df[df[\"is_attack\"]=='is_attack'].index\n",
        "#df[\"is_attack\"].unique()\n",
        "\n",
        "#df.drop(index_names, inplace = True)\n",
        "#removing attributes with more than 90 perc values nan\n",
        "df.drop(nanAttr,axis=1 ,inplace=True)\n",
        "\n",
        "#df.drop(nanAttr,axis=1 ,inplace=True)\n",
        "#df.drop( df[df[i]==\"is_attack\" ])"
      ],
      "metadata": {
        "_uuid": "85295509-08b4-4f93-ab45-ac1588d57e71",
        "_cell_guid": "f644c70e-6c42-4acb-a58a-d2a7b50a5b69",
        "jupyter": {
          "outputs_hidden": false
        },
        "execution": {
          "iopub.status.busy": "2022-04-07T13:04:37.146244Z",
          "iopub.execute_input": "2022-04-07T13:04:37.147006Z",
          "iopub.status.idle": "2022-04-07T13:04:37.767719Z",
          "shell.execute_reply.started": "2022-04-07T13:04:37.146955Z",
          "shell.execute_reply": "2022-04-07T13:04:37.766684Z"
        },
        "trusted": true,
        "id": "OiiE2aVtJoIU"
      },
      "execution_count": null,
      "outputs": []
    },
    {
      "cell_type": "code",
      "source": [
        "#eleminating extranous variables\n",
        "for c in df.columns.tolist()[:-1]:\n",
        "    #print(c,len(df[c].unique()),df[c].unique())\n",
        "    #if len(df[c].unique()) ==1 or len(df.loc[df['is_attack'] == 1, c].unique()) ==1:\n",
        "    if len(df[c].unique()) ==1:\n",
        "        print(c)\n",
        "        df.pop(c)"
      ],
      "metadata": {
        "_uuid": "6dd55e69-e974-48f6-805c-c8e6d5a46ab6",
        "_cell_guid": "e9d6532c-bcd4-46cc-9cb4-ad5508bf6f2c",
        "jupyter": {
          "outputs_hidden": false
        },
        "execution": {
          "iopub.status.busy": "2022-04-07T13:04:37.771125Z",
          "iopub.execute_input": "2022-04-07T13:04:37.771492Z",
          "iopub.status.idle": "2022-04-07T13:04:37.856717Z",
          "shell.execute_reply.started": "2022-04-07T13:04:37.771460Z",
          "shell.execute_reply": "2022-04-07T13:04:37.855815Z"
        },
        "trusted": true,
        "id": "6TG_CQ4GJoIV"
      },
      "execution_count": null,
      "outputs": []
    },
    {
      "cell_type": "code",
      "source": [
        "df_feat = df.iloc[:,:]"
      ],
      "metadata": {
        "_uuid": "49aa05e9-f18a-4a14-93c4-8ec62e5c87b1",
        "_cell_guid": "073e6472-9adb-4f29-b5d9-5e655f63da78",
        "jupyter": {
          "outputs_hidden": false
        },
        "execution": {
          "iopub.status.busy": "2022-04-07T13:04:37.858082Z",
          "iopub.execute_input": "2022-04-07T13:04:37.858398Z",
          "iopub.status.idle": "2022-04-07T13:04:37.863314Z",
          "shell.execute_reply.started": "2022-04-07T13:04:37.858356Z",
          "shell.execute_reply": "2022-04-07T13:04:37.862354Z"
        },
        "trusted": true,
        "id": "Iu24efLhJoIW"
      },
      "execution_count": null,
      "outputs": []
    },
    {
      "cell_type": "code",
      "source": [
        "df.fillna(df.median(), inplace=True)"
      ],
      "metadata": {
        "_uuid": "bef41822-8b10-4577-bf00-7619c450216b",
        "_cell_guid": "80abca5e-227c-4a0d-b8ce-f1398b709caf",
        "jupyter": {
          "outputs_hidden": false
        },
        "execution": {
          "iopub.status.busy": "2022-04-07T13:04:37.864712Z",
          "iopub.execute_input": "2022-04-07T13:04:37.865844Z",
          "iopub.status.idle": "2022-04-07T13:04:37.954219Z",
          "shell.execute_reply.started": "2022-04-07T13:04:37.865797Z",
          "shell.execute_reply": "2022-04-07T13:04:37.952903Z"
        },
        "trusted": true,
        "id": "cmIfRTP4JoIX"
      },
      "execution_count": null,
      "outputs": []
    },
    {
      "cell_type": "code",
      "source": [
        ""
      ],
      "metadata": {
        "_uuid": "f54a9866-c460-4b54-8039-9e7a401e1057",
        "_cell_guid": "1e6be6ac-b6c7-4046-9c7b-e9d14ff52f5b",
        "jupyter": {
          "outputs_hidden": false
        },
        "trusted": true,
        "id": "2E0Ek4U7JoIY"
      },
      "execution_count": null,
      "outputs": []
    },
    {
      "cell_type": "code",
      "source": [
        "non_numeric_columns = list(df_feat.select_dtypes(exclude=[np.number]).columns)\n",
        "#struct_data = struct_data.dropna(axis = 0, how ='any') \n",
        "print(non_numeric_columns)"
      ],
      "metadata": {
        "_uuid": "daaab5b0-d77d-4301-a3ba-4b8b1cd3605d",
        "_cell_guid": "f54e3288-7fe2-4efb-81a3-2b0099c550c1",
        "jupyter": {
          "outputs_hidden": false
        },
        "execution": {
          "iopub.status.busy": "2022-04-07T13:04:37.955763Z",
          "iopub.execute_input": "2022-04-07T13:04:37.956526Z",
          "iopub.status.idle": "2022-04-07T13:04:37.967953Z",
          "shell.execute_reply.started": "2022-04-07T13:04:37.956469Z",
          "shell.execute_reply": "2022-04-07T13:04:37.966965Z"
        },
        "trusted": true,
        "id": "I2CHf54mJoIZ"
      },
      "execution_count": null,
      "outputs": []
    },
    {
      "cell_type": "code",
      "source": [
        "from sklearn.preprocessing import LabelEncoder\n",
        "\n",
        "le = LabelEncoder()\n",
        "\n",
        "for col in non_numeric_columns:\n",
        "    df_feat[col] = le.fit_transform(df_feat[col].astype(str))\n",
        "\n",
        "print(df_feat.head(16))"
      ],
      "metadata": {
        "_uuid": "9ff72af8-da06-4679-8b91-e6edae97b46a",
        "_cell_guid": "cbec3b4f-90f2-448d-aa7a-e66e565b4d15",
        "jupyter": {
          "outputs_hidden": false
        },
        "execution": {
          "iopub.status.busy": "2022-04-07T13:04:37.969322Z",
          "iopub.execute_input": "2022-04-07T13:04:37.969641Z",
          "iopub.status.idle": "2022-04-07T13:04:39.069999Z",
          "shell.execute_reply.started": "2022-04-07T13:04:37.969605Z",
          "shell.execute_reply": "2022-04-07T13:04:39.068964Z"
        },
        "trusted": true,
        "id": "oBElzGjqJoIZ"
      },
      "execution_count": null,
      "outputs": []
    },
    {
      "cell_type": "code",
      "source": [
        "#columns= df_feat.columns[1:-1]\n",
        "#columns = columns.tolist()\n",
        "#columns"
      ],
      "metadata": {
        "_uuid": "567cc25e-1ba2-45c9-8214-477fce4b8aa1",
        "_cell_guid": "5f15bcba-ab53-48ae-b5f8-ee83a00513b3",
        "jupyter": {
          "outputs_hidden": false
        },
        "execution": {
          "iopub.status.busy": "2022-04-07T13:04:39.071477Z",
          "iopub.execute_input": "2022-04-07T13:04:39.072287Z",
          "iopub.status.idle": "2022-04-07T13:04:39.076583Z",
          "shell.execute_reply.started": "2022-04-07T13:04:39.072242Z",
          "shell.execute_reply": "2022-04-07T13:04:39.075643Z"
        },
        "trusted": true,
        "id": "cwETVzsAJoIa"
      },
      "execution_count": null,
      "outputs": []
    },
    {
      "cell_type": "code",
      "source": [
        "#from sklearn.preprocessing import StandardScaler\n",
        "\n",
        "# create a scaler object\n",
        "#std_scaler = StandardScaler()\n",
        "#std_scaler\n",
        "# fit and transform the data\n",
        "#df_feat = pd.DataFrame(std_scaler.fit_transform(df_feat), columns=df_feat.columns)\n",
        "\n",
        "#df_feat"
      ],
      "metadata": {
        "_uuid": "ea8132be-4d25-4550-a07e-ffdc8934ab74",
        "_cell_guid": "715e65ca-5f17-4b2c-970f-41b210945ac3",
        "jupyter": {
          "outputs_hidden": false
        },
        "execution": {
          "iopub.status.busy": "2022-04-07T13:04:39.078032Z",
          "iopub.execute_input": "2022-04-07T13:04:39.078559Z",
          "iopub.status.idle": "2022-04-07T13:04:39.089350Z",
          "shell.execute_reply.started": "2022-04-07T13:04:39.078509Z",
          "shell.execute_reply": "2022-04-07T13:04:39.088225Z"
        },
        "trusted": true,
        "id": "zilKVcUZJoIb"
      },
      "execution_count": null,
      "outputs": []
    },
    {
      "cell_type": "code",
      "source": [
        ""
      ],
      "metadata": {
        "_uuid": "2478ddff-ad06-4f11-be62-5349efc118d9",
        "_cell_guid": "9046b42b-2404-4c26-aa67-717efa07934b",
        "jupyter": {
          "outputs_hidden": false
        },
        "trusted": true,
        "id": "egLtGs9FJoIc"
      },
      "execution_count": null,
      "outputs": []
    },
    {
      "cell_type": "code",
      "source": [
        "print(df_feat)"
      ],
      "metadata": {
        "_uuid": "a9203ec3-7736-4092-a3bf-2e34185b7e6b",
        "_cell_guid": "7a12d21b-7725-4d3f-b986-35056412ab06",
        "jupyter": {
          "outputs_hidden": false
        },
        "execution": {
          "iopub.status.busy": "2022-04-07T13:04:39.090425Z",
          "iopub.execute_input": "2022-04-07T13:04:39.090679Z",
          "iopub.status.idle": "2022-04-07T13:04:39.132689Z",
          "shell.execute_reply.started": "2022-04-07T13:04:39.090641Z",
          "shell.execute_reply": "2022-04-07T13:04:39.131718Z"
        },
        "trusted": true,
        "id": "TNZvCdrXJoId"
      },
      "execution_count": null,
      "outputs": []
    },
    {
      "cell_type": "code",
      "source": [
        "#dir(pyEDM)"
      ],
      "metadata": {
        "_uuid": "e13d687e-0bd3-413c-8d2b-2b047bc3f741",
        "_cell_guid": "56512b60-e6d0-42bb-8410-fa9ac2788786",
        "jupyter": {
          "outputs_hidden": false
        },
        "execution": {
          "iopub.status.busy": "2022-04-07T13:04:39.133837Z",
          "iopub.execute_input": "2022-04-07T13:04:39.134084Z",
          "iopub.status.idle": "2022-04-07T13:04:39.138479Z",
          "shell.execute_reply.started": "2022-04-07T13:04:39.134056Z",
          "shell.execute_reply": "2022-04-07T13:04:39.137513Z"
        },
        "trusted": true,
        "id": "hC-ile-YJoIe"
      },
      "execution_count": null,
      "outputs": []
    },
    {
      "cell_type": "code",
      "source": [
        "df_feat.rename(columns = {'timestamp':'time'}, inplace = True)"
      ],
      "metadata": {
        "_uuid": "0066d970-b387-4edb-8c9b-c5246ed6b02e",
        "_cell_guid": "8d511bff-78a2-4270-a070-65b082c6eba8",
        "jupyter": {
          "outputs_hidden": false
        },
        "execution": {
          "iopub.status.busy": "2022-04-07T13:04:39.140245Z",
          "iopub.execute_input": "2022-04-07T13:04:39.140757Z",
          "iopub.status.idle": "2022-04-07T13:04:39.153335Z",
          "shell.execute_reply.started": "2022-04-07T13:04:39.140708Z",
          "shell.execute_reply": "2022-04-07T13:04:39.152082Z"
        },
        "trusted": true,
        "id": "ueI5wygiJoIf"
      },
      "execution_count": null,
      "outputs": []
    },
    {
      "cell_type": "code",
      "source": [
        "df_feat['time'] = df_feat['time'].astype(int)"
      ],
      "metadata": {
        "_uuid": "275d13f4-a5ba-4d50-a8ad-a00fd014cf92",
        "_cell_guid": "ad7e9331-4307-4807-9e65-4cace44450a4",
        "jupyter": {
          "outputs_hidden": false
        },
        "execution": {
          "iopub.status.busy": "2022-04-07T13:04:39.155019Z",
          "iopub.execute_input": "2022-04-07T13:04:39.155528Z",
          "iopub.status.idle": "2022-04-07T13:04:39.166860Z",
          "shell.execute_reply.started": "2022-04-07T13:04:39.155473Z",
          "shell.execute_reply": "2022-04-07T13:04:39.166181Z"
        },
        "trusted": true,
        "id": "yTMSFO7mJoIf"
      },
      "execution_count": null,
      "outputs": []
    },
    {
      "cell_type": "code",
      "source": [
        "\n",
        "df_feat.columns.tolist()"
      ],
      "metadata": {
        "_uuid": "9a7e6091-5533-46fb-b818-c94e516fceda",
        "_cell_guid": "dc7032a1-b447-4174-80a6-866a94182aa0",
        "jupyter": {
          "outputs_hidden": false
        },
        "execution": {
          "iopub.status.busy": "2022-04-07T13:04:39.168685Z",
          "iopub.execute_input": "2022-04-07T13:04:39.169033Z",
          "iopub.status.idle": "2022-04-07T13:04:39.180822Z",
          "shell.execute_reply.started": "2022-04-07T13:04:39.168960Z",
          "shell.execute_reply": "2022-04-07T13:04:39.179759Z"
        },
        "trusted": true,
        "id": "ee29YzCzJoIg"
      },
      "execution_count": null,
      "outputs": []
    },
    {
      "cell_type": "code",
      "source": [
        "print(df_feat)"
      ],
      "metadata": {
        "_uuid": "f7f5f17f-3291-495c-af54-0628a0af916b",
        "_cell_guid": "edc56b20-3c6b-49cd-abbd-44c3764fac4d",
        "jupyter": {
          "outputs_hidden": false
        },
        "execution": {
          "iopub.status.busy": "2022-04-07T13:04:39.182704Z",
          "iopub.execute_input": "2022-04-07T13:04:39.183073Z",
          "iopub.status.idle": "2022-04-07T13:04:39.222010Z",
          "shell.execute_reply.started": "2022-04-07T13:04:39.183022Z",
          "shell.execute_reply": "2022-04-07T13:04:39.220965Z"
        },
        "trusted": true,
        "id": "y1D7FpIcJoIh"
      },
      "execution_count": null,
      "outputs": []
    },
    {
      "cell_type": "code",
      "source": [
        "print(dir(pyEDM.EmbedDimension))"
      ],
      "metadata": {
        "_uuid": "cadde358-99fc-438a-8331-d5023e2bed1a",
        "_cell_guid": "96a97113-adb7-4f8a-898d-4c42ad46293b",
        "jupyter": {
          "outputs_hidden": false
        },
        "execution": {
          "iopub.status.busy": "2022-04-07T13:04:39.223083Z",
          "iopub.execute_input": "2022-04-07T13:04:39.223732Z",
          "iopub.status.idle": "2022-04-07T13:04:39.228681Z",
          "shell.execute_reply.started": "2022-04-07T13:04:39.223694Z",
          "shell.execute_reply": "2022-04-07T13:04:39.227780Z"
        },
        "trusted": true,
        "id": "GppLsEs4JoIh"
      },
      "execution_count": null,
      "outputs": []
    },
    {
      "cell_type": "code",
      "source": [
        "cols = df_feat.columns.tolist()"
      ],
      "metadata": {
        "_uuid": "5d71b0af-ce24-44b7-ba3f-0a3bd5ccfc4a",
        "_cell_guid": "8768ba00-8c16-47a7-ae96-f3746d709d12",
        "jupyter": {
          "outputs_hidden": false
        },
        "execution": {
          "iopub.status.busy": "2022-04-07T13:04:39.229747Z",
          "iopub.execute_input": "2022-04-07T13:04:39.230201Z",
          "iopub.status.idle": "2022-04-07T13:04:39.243221Z",
          "shell.execute_reply.started": "2022-04-07T13:04:39.230151Z",
          "shell.execute_reply": "2022-04-07T13:04:39.241860Z"
        },
        "trusted": true,
        "id": "qnyxAFs0JoIi"
      },
      "execution_count": null,
      "outputs": []
    },
    {
      "cell_type": "code",
      "source": [
        ""
      ],
      "metadata": {
        "_uuid": "cad74ec0-4a54-4342-bd3c-c5248d14aeba",
        "_cell_guid": "16c34bc1-148e-4d50-ae72-7d31e96532da",
        "jupyter": {
          "outputs_hidden": false
        },
        "trusted": true,
        "id": "SyZm50ouJoIi"
      },
      "execution_count": null,
      "outputs": []
    },
    {
      "cell_type": "code",
      "source": [
        "print(cols)"
      ],
      "metadata": {
        "_uuid": "4498869f-8d66-4742-a00d-6acbe3de85e0",
        "_cell_guid": "366e50cb-67d4-4bef-a9e0-b5667efb60ff",
        "jupyter": {
          "outputs_hidden": false
        },
        "execution": {
          "iopub.status.busy": "2022-04-07T13:04:39.244594Z",
          "iopub.execute_input": "2022-04-07T13:04:39.245250Z",
          "iopub.status.idle": "2022-04-07T13:04:39.259470Z",
          "shell.execute_reply.started": "2022-04-07T13:04:39.245195Z",
          "shell.execute_reply": "2022-04-07T13:04:39.258336Z"
        },
        "trusted": true,
        "id": "wWTbNDSVJoIj"
      },
      "execution_count": null,
      "outputs": []
    },
    {
      "cell_type": "code",
      "source": [
        "len(df_feat)"
      ],
      "metadata": {
        "_uuid": "f13e1abf-be0d-4d4d-8fbe-7a22a17654a5",
        "_cell_guid": "4b88d246-c0a6-48cb-9670-98e08524e628",
        "jupyter": {
          "outputs_hidden": false
        },
        "execution": {
          "iopub.status.busy": "2022-04-07T13:04:39.260874Z",
          "iopub.execute_input": "2022-04-07T13:04:39.261267Z",
          "iopub.status.idle": "2022-04-07T13:04:39.273675Z",
          "shell.execute_reply.started": "2022-04-07T13:04:39.261220Z",
          "shell.execute_reply": "2022-04-07T13:04:39.272826Z"
        },
        "trusted": true,
        "id": "QC71rmTDJoIj"
      },
      "execution_count": null,
      "outputs": []
    },
    {
      "cell_type": "code",
      "source": [
        "total = len(df_feat)\n",
        "\n",
        "libEnd = 0.8*total\n",
        "\n",
        "print(total,\" \",libEnd)"
      ],
      "metadata": {
        "_uuid": "40394bb3-198c-4c31-aef0-8e907c48887b",
        "_cell_guid": "18b101ad-8123-4226-b61c-fbd4eefd3e61",
        "jupyter": {
          "outputs_hidden": false
        },
        "execution": {
          "iopub.status.busy": "2022-04-07T13:04:39.275042Z",
          "iopub.execute_input": "2022-04-07T13:04:39.275467Z",
          "iopub.status.idle": "2022-04-07T13:04:39.287776Z",
          "shell.execute_reply.started": "2022-04-07T13:04:39.275436Z",
          "shell.execute_reply": "2022-04-07T13:04:39.286617Z"
        },
        "trusted": true,
        "id": "98aTehSUJoIk"
      },
      "execution_count": null,
      "outputs": []
    },
    {
      "cell_type": "markdown",
      "source": [
        " We can estimate an optimal embedding dimension with the EmbedDimension() function. This function evaluates simplex prediction accuracy over a range of embedding dimensions, the embedding dimension E with the highest predictive accuracy is selected for system analysis. This embedding is presumed to best represent and \"disentangle\" the manifold."
      ],
      "metadata": {
        "_uuid": "0f720b19-1c3e-4d17-8cef-aa2b629c8011",
        "_cell_guid": "232946ce-a024-4f5d-ac49-47a252488fb9",
        "trusted": true,
        "id": "eGY4Tk1GJoIk"
      }
    },
    {
      "cell_type": "code",
      "source": [
        "import matplotlib.pyplot as plt\n",
        "plt.plot( df_feat[\"is_attack\"][0:6000] );"
      ],
      "metadata": {
        "_uuid": "e6e01365-39e8-4c43-9525-3988b5908d34",
        "_cell_guid": "bb688aca-b662-4b53-83cb-d2c0130a2f55",
        "jupyter": {
          "outputs_hidden": false
        },
        "execution": {
          "iopub.status.busy": "2022-04-07T13:04:39.294127Z",
          "iopub.execute_input": "2022-04-07T13:04:39.294585Z",
          "iopub.status.idle": "2022-04-07T13:04:39.463693Z",
          "shell.execute_reply.started": "2022-04-07T13:04:39.294543Z",
          "shell.execute_reply": "2022-04-07T13:04:39.462664Z"
        },
        "trusted": true,
        "id": "b6Z9xpM9JoIm"
      },
      "execution_count": null,
      "outputs": []
    },
    {
      "cell_type": "code",
      "source": [
        "def getStats(predicted,observed):\n",
        "    stats = {'tp':0,'tn':0,'fp':0,'fn':0}\n",
        "    for i in range(1,len(predicted)):\n",
        "        if predicted[i] < 0.5 and observed[i] == 0:\n",
        "                stats['tp'] += 1\n",
        "        elif predicted[i]>=0.5 and observed[i] == 1:\n",
        "                stats['tn'] += 1\n",
        "        elif predicted[i] <0.5 and observed[i] == 1:\n",
        "                stats['fp'] += 1\n",
        "        else:\n",
        "                stats['fn'] += 1\n",
        "    return stats"
      ],
      "metadata": {
        "_uuid": "562fe4d1-3092-4ce2-b307-9f9ae2247466",
        "_cell_guid": "a1f59b3b-e25d-40e3-92e5-3c6712ba7265",
        "jupyter": {
          "outputs_hidden": false
        },
        "execution": {
          "iopub.status.busy": "2022-04-07T13:04:39.465175Z",
          "iopub.execute_input": "2022-04-07T13:04:39.465858Z",
          "iopub.status.idle": "2022-04-07T13:04:39.475152Z",
          "shell.execute_reply.started": "2022-04-07T13:04:39.465805Z",
          "shell.execute_reply": "2022-04-07T13:04:39.473950Z"
        },
        "trusted": true,
        "id": "BBrywALGJoIn"
      },
      "execution_count": null,
      "outputs": []
    },
    {
      "cell_type": "code",
      "source": [
        "def getAccuracy(stats):\n",
        "    accuracy = (stats['tp']+stats['tn'])/(stats['tp']+stats['tn']+stats['fp']+stats['fn'])\n",
        "    return accuracy"
      ],
      "metadata": {
        "_uuid": "c7843aac-a144-4172-968c-4324e55a78ec",
        "_cell_guid": "ea3ea3ed-7cea-4892-bc8b-156bad10d31a",
        "jupyter": {
          "outputs_hidden": false
        },
        "execution": {
          "iopub.status.busy": "2022-04-07T13:04:39.476689Z",
          "iopub.execute_input": "2022-04-07T13:04:39.477194Z",
          "iopub.status.idle": "2022-04-07T13:04:39.491160Z",
          "shell.execute_reply.started": "2022-04-07T13:04:39.477157Z",
          "shell.execute_reply": "2022-04-07T13:04:39.490118Z"
        },
        "trusted": true,
        "id": "O9MfV8v6JoIo"
      },
      "execution_count": null,
      "outputs": []
    },
    {
      "cell_type": "code",
      "source": [
        "def getPrecision(stats):\n",
        "    pres = (stats['tp'])/(stats['tp']+stats['fp'])\n",
        "    return pres"
      ],
      "metadata": {
        "_uuid": "ecaa4430-c4c6-4703-bd01-b632d785c3bf",
        "_cell_guid": "b8f6d190-0700-4720-a1f0-72154287bcf2",
        "jupyter": {
          "outputs_hidden": false
        },
        "execution": {
          "iopub.status.busy": "2022-04-07T13:04:39.492612Z",
          "iopub.execute_input": "2022-04-07T13:04:39.493074Z",
          "iopub.status.idle": "2022-04-07T13:04:39.504517Z",
          "shell.execute_reply.started": "2022-04-07T13:04:39.493026Z",
          "shell.execute_reply": "2022-04-07T13:04:39.503718Z"
        },
        "trusted": true,
        "id": "KFTCKzb2JoIp"
      },
      "execution_count": null,
      "outputs": []
    },
    {
      "cell_type": "code",
      "source": [
        "def getRecall(stats):\n",
        "    recall = (stats['tp'])/(stats['tp']+stats['fn'])\n",
        "    return recall"
      ],
      "metadata": {
        "_uuid": "9e8cb83e-cd9d-4cfe-84b0-af73759334f2",
        "_cell_guid": "7c8338d0-1001-4c9a-af89-c9d579ccade0",
        "jupyter": {
          "outputs_hidden": false
        },
        "execution": {
          "iopub.status.busy": "2022-04-07T13:04:39.505635Z",
          "iopub.execute_input": "2022-04-07T13:04:39.506212Z",
          "iopub.status.idle": "2022-04-07T13:04:39.518937Z",
          "shell.execute_reply.started": "2022-04-07T13:04:39.506158Z",
          "shell.execute_reply": "2022-04-07T13:04:39.518031Z"
        },
        "trusted": true,
        "id": "I160VlU2JoIp"
      },
      "execution_count": null,
      "outputs": []
    },
    {
      "cell_type": "code",
      "source": [
        "def getF1Score(pres,recall):\n",
        "    f1 = 2*(pres*recall)/(recall+pres)\n",
        "    return f1"
      ],
      "metadata": {
        "_uuid": "52eaf2fe-dfab-42fa-9b90-49f9600f9a2c",
        "_cell_guid": "47b482bc-a650-471e-bf32-b0e3aabee990",
        "jupyter": {
          "outputs_hidden": false
        },
        "execution": {
          "iopub.status.busy": "2022-04-07T13:04:39.520000Z",
          "iopub.execute_input": "2022-04-07T13:04:39.520699Z",
          "iopub.status.idle": "2022-04-07T13:04:39.531233Z",
          "shell.execute_reply.started": "2022-04-07T13:04:39.520667Z",
          "shell.execute_reply": "2022-04-07T13:04:39.530150Z"
        },
        "trusted": true,
        "id": "yN8A_JaYJoIq"
      },
      "execution_count": null,
      "outputs": []
    },
    {
      "cell_type": "code",
      "source": [
        "def getMeasures(objects):\n",
        "    #print(objects)\n",
        "    s = getStats(objects.Predictions,objects.Observations)\n",
        "    print(s)\n",
        "    measurements = {\n",
        "        \"Accuracy\": getAccuracy(s),\n",
        "        \"Precison\" : getPrecision(s),\n",
        "        \"Recall\" : getRecall(s)\n",
        "    }\n",
        "    measurements['F1Score'] = getF1Score(measurements['Precison'],measurements['Recall'])\n",
        "    return measurements"
      ],
      "metadata": {
        "_uuid": "c97c0233-c179-4656-afce-eca5b0de5d0b",
        "_cell_guid": "8eef4358-37bf-48d4-aa59-6e11b76c8d06",
        "jupyter": {
          "outputs_hidden": false
        },
        "execution": {
          "iopub.status.busy": "2022-04-07T13:04:39.532969Z",
          "iopub.execute_input": "2022-04-07T13:04:39.533276Z",
          "iopub.status.idle": "2022-04-07T13:04:39.544267Z",
          "shell.execute_reply.started": "2022-04-07T13:04:39.533244Z",
          "shell.execute_reply": "2022-04-07T13:04:39.543359Z"
        },
        "trusted": true,
        "id": "V0tf6FPQJoIr"
      },
      "execution_count": null,
      "outputs": []
    },
    {
      "cell_type": "code",
      "source": [
        "pyEDM.EmbedDimension( dataFrame = df_feat, lib = \"1 2000\", pred = \"3001 6000\", columns = \"src_ip dst_ip protocol ttl ip_len ip_flag_df ip_flag_mf ip_flag_rb src_port dst_port tcp_flag_res tcp_flag_ns tcp_flag_cwr tcp_flag_ecn tcp_flag_urg tcp_flag_ack tcp_flag_push tcp_flag_reset tcp_flag_syn tcp_flag_fin mqtt_messagetype mqtt_messagelength\", target = \"is_attack\")"
      ],
      "metadata": {
        "_uuid": "764ba3d9-fc5c-4867-8d49-614929fd3e73",
        "_cell_guid": "55fc53ee-b606-4c19-acaf-c4c5eedd9429",
        "jupyter": {
          "outputs_hidden": false
        },
        "execution": {
          "iopub.status.busy": "2022-04-07T13:04:39.545713Z",
          "iopub.execute_input": "2022-04-07T13:04:39.546160Z",
          "iopub.status.idle": "2022-04-07T13:05:49.713204Z",
          "shell.execute_reply.started": "2022-04-07T13:04:39.546120Z",
          "shell.execute_reply": "2022-04-07T13:05:49.712268Z"
        },
        "trusted": true,
        "id": "V7NH0io4JoIs"
      },
      "execution_count": null,
      "outputs": []
    },
    {
      "cell_type": "markdown",
      "source": [
        ""
      ],
      "metadata": {
        "_uuid": "be1ae2a5-e9ae-40cb-a15c-c97ac0d67bbb",
        "_cell_guid": "16a8e36b-69ae-4d74-9e7e-e30cb66a451e",
        "trusted": true,
        "id": "fC_q5RWOJoIt"
      }
    },
    {
      "cell_type": "code",
      "source": [
        "pyEDM.EmbedDimension( dataFrame = df_feat, lib = \"1 2000\", pred = \"3001 6000\", columns = \"is_attack\", target = \"is_attack\")"
      ],
      "metadata": {
        "_uuid": "eba8400c-8928-4132-8bdf-fc5243a47f8b",
        "_cell_guid": "3849319f-141a-4e3a-8e61-eaeecd90fbdb",
        "jupyter": {
          "outputs_hidden": false
        },
        "execution": {
          "iopub.status.busy": "2022-04-07T13:05:49.714475Z",
          "iopub.execute_input": "2022-04-07T13:05:49.714692Z",
          "iopub.status.idle": "2022-04-07T13:06:04.052727Z",
          "shell.execute_reply.started": "2022-04-07T13:05:49.714665Z",
          "shell.execute_reply": "2022-04-07T13:06:04.051809Z"
        },
        "trusted": true,
        "id": "G6_LnuY5JoIt"
      },
      "execution_count": null,
      "outputs": []
    },
    {
      "cell_type": "markdown",
      "source": [
        "contrast to the nearest-neighbor interpolation of simplex projection, the S-map forecasting method\n",
        "(Sugihara 1994) fits local linear maps to describe the dynamics. In addition to the standard set of parameters\n",
        "for a lagged-coordinate reconstruction as in simplex, S-maps contain a nonlinear localisation parameter, θ,\n",
        "that determines the degree to which points are weighted when fitting the local linear map. For example, when\n",
        "θ = 0, all points are equally weighted, such that the local linear map is identical for different points in the\n",
        "reconstructed state-space. As such, the S-map will be identical to a global linear map (i.e. an autoregressive\n",
        "model). When values of θ are greater than 0, nearby points in the state space receive larger weight, and the\n",
        "local linear map can vary in state-space to accommodate nonlinear behavior.\n",
        "Consequently, if the time series are sampled from autoregressive red noise, then the linear model (θ = 0)\n",
        "should produce better forecasts, because the global linear map (which will, in effect, be fitted to more data\n",
        "points) will reduce the effects of observation error compared to local linear maps. In contrast, if forecast skill\n",
        "increases for θ > 0, then the results are suggestive of nonlinear dynamics wherein better forecasts are achieved\n",
        "when the local linear map can change depending on the location in state-space: it is a better description of\n",
        "state-dependent behavior."
      ],
      "metadata": {
        "_uuid": "8bcdace5-7558-497e-8e15-25b5ea14ed1a",
        "_cell_guid": "39b5bf8e-8fd5-4c20-b933-7e34ee76db0e",
        "trusted": true,
        "id": "WuN8EOURJoIu"
      }
    },
    {
      "cell_type": "code",
      "source": [
        "from sklearn.linear_model import Ridge, Lasso, ElasticNet\n",
        "from sklearn.linear_model import RidgeCV, LassoCV, ElasticNetCV\n",
        "lmSolvers = {\n",
        "    'SVD'          : None, \n",
        "    'Ridge'        : Ridge( alpha = 0.05 ),\n",
        "    'Lasso'        : Lasso( alpha = 0.005 ),\n",
        "    'ElasticNet'   : ElasticNet( alpha = 0.001, l1_ratio = 0.001 ),\n",
        "    'RidgeCV'      : RidgeCV(),\n",
        "    'LassoCV'      : LassoCV( cv = 5 ),\n",
        "    'ElasticNetCV' : ElasticNetCV( l1_ratio = [.05,.1,.5,.7,.9,.95,1],cv = 5 )\n",
        "}"
      ],
      "metadata": {
        "_uuid": "9b43a3e3-9c0e-49ee-a54d-d6163cb2fa8c",
        "_cell_guid": "e49f97d9-3c7d-4345-8c3b-f9e16dd2a597",
        "jupyter": {
          "outputs_hidden": false
        },
        "execution": {
          "iopub.status.busy": "2022-04-07T13:06:04.054051Z",
          "iopub.execute_input": "2022-04-07T13:06:04.054321Z",
          "iopub.status.idle": "2022-04-07T13:06:04.204116Z",
          "shell.execute_reply.started": "2022-04-07T13:06:04.054290Z",
          "shell.execute_reply": "2022-04-07T13:06:04.203235Z"
        },
        "trusted": true,
        "id": "oJZGyu1uJoIv"
      },
      "execution_count": null,
      "outputs": []
    },
    {
      "cell_type": "code",
      "source": [
        "'''for solverName in lmSolvers.keys() :\n",
        "    print(solverName)\n",
        "    result = pyEDM.SMap( dataFrame = df_feat,\n",
        "                         lib = \"1 100\", pred = \"101 198\",\n",
        "                         embedded = True, E = 2, theta = 3,\n",
        "                         columns = \"is_attack\", target = \"is_attack\", showPlot = True,\n",
        "                         solver = lmSolvers[ solverName ] )'''"
      ],
      "metadata": {
        "_uuid": "2496ba13-f65f-47f3-9d4e-405c1215521b",
        "_cell_guid": "9b7bc5d9-8666-4f7d-b7dd-38d391b96fc1",
        "jupyter": {
          "outputs_hidden": false
        },
        "execution": {
          "iopub.status.busy": "2022-04-07T13:06:04.205398Z",
          "iopub.execute_input": "2022-04-07T13:06:04.205803Z",
          "iopub.status.idle": "2022-04-07T13:06:04.212331Z",
          "shell.execute_reply.started": "2022-04-07T13:06:04.205765Z",
          "shell.execute_reply": "2022-04-07T13:06:04.211716Z"
        },
        "trusted": true,
        "id": "tle9mveaJoIx"
      },
      "execution_count": null,
      "outputs": []
    },
    {
      "cell_type": "code",
      "source": [
        "pyEDM.PredictNonlinear( dataFrame = df_feat, lib = \"1 2000\", pred = \"3001 6000\", columns = \"src_ip dst_ip protocol ttl ip_len ip_flag_df ip_flag_mf ip_flag_rb src_port dst_port tcp_flag_res tcp_flag_ns tcp_flag_cwr tcp_flag_ecn tcp_flag_urg tcp_flag_ack tcp_flag_push tcp_flag_reset tcp_flag_syn tcp_flag_fin mqtt_messagetype mqtt_messagelength is_attack\",target = \"is_attack\", embedded = True, E=0 );"
      ],
      "metadata": {
        "_uuid": "adbc329b-2f35-4fa2-a8da-e560c36d015e",
        "_cell_guid": "4a5180a7-9484-4f9e-b116-c47bb979cb4b",
        "jupyter": {
          "outputs_hidden": false
        },
        "execution": {
          "iopub.status.busy": "2022-04-07T13:06:04.213346Z",
          "iopub.execute_input": "2022-04-07T13:06:04.214052Z"
        },
        "trusted": true,
        "id": "RwEPnF7nJoIy"
      },
      "execution_count": null,
      "outputs": []
    },
    {
      "cell_type": "code",
      "source": [
        "prednon = pyEDM.PredictNonlinear( dataFrame = df_feat, lib = \"1 11000\", pred = \"12001 13600\", columns = \"is_attack\",target = \"is_attack\", embedded = True, E=1 );"
      ],
      "metadata": {
        "_uuid": "83774616-40b6-4d51-8c3b-ee36d5268527",
        "_cell_guid": "b6b07194-5a87-4b9c-b014-e1f0c40df47f",
        "jupyter": {
          "outputs_hidden": false
        },
        "trusted": true,
        "id": "n1PzOdnFJoI0"
      },
      "execution_count": null,
      "outputs": []
    },
    {
      "cell_type": "code",
      "source": [
        "print(prednon)"
      ],
      "metadata": {
        "_uuid": "020f4de4-449f-4d3b-a83f-7a88eafa89ca",
        "_cell_guid": "a5a7f94f-5ca2-4d29-8b7f-2a432308736d",
        "jupyter": {
          "outputs_hidden": false
        },
        "trusted": true,
        "id": "vTE49-6CJoI0"
      },
      "execution_count": null,
      "outputs": []
    },
    {
      "cell_type": "code",
      "source": [
        "#pyEDM.PredictNonlinear( dataFrame = df_feat, lib=\"1 5000\", pred=\"5001 10000\", columns = \"src_ip dst_ip protocol ttl ip_len ip_flag_df ip_flag_mf ip_flag_rb src_port dst_port tcp_flag_res tcp_flag_ns tcp_flag_cwr tcp_flag_ecn tcp_flag_urg tcp_flag_ack tcp_flag_push tcp_flag_reset tcp_flag_syn tcp_flag_fin mqtt_messagetype mqtt_messagelength\", embedded = True, E=1 );"
      ],
      "metadata": {
        "_uuid": "320b03f9-df12-43fd-bdd8-c764763ea183",
        "_cell_guid": "5a54e1cd-ced6-4c70-a01d-a79043c674fb",
        "jupyter": {
          "outputs_hidden": false
        },
        "trusted": true,
        "id": "QjSNnynHJoI1"
      },
      "execution_count": null,
      "outputs": []
    },
    {
      "cell_type": "markdown",
      "source": [
        "Based on a rule of thumb, it can be said that RMSE values **between 0.2 and 0.5** shows that the model can relatively predict the data accurately. In addition, Adjusted **R-squared more than 0.75 is a very good value ** for showing the accuracy. In some cases, **Adjusted R-squared of 0.4 or more is acceptable as well**."
      ],
      "metadata": {
        "_uuid": "9f052952-c31b-4804-9ba0-c3d8586a7456",
        "_cell_guid": "51c04b09-c683-4f44-bebb-7d2f1d8ed89f",
        "trusted": true,
        "id": "z4jn2_NGJoI1"
      }
    },
    {
      "cell_type": "code",
      "source": [
        "simp = pyEDM.Simplex( dataFrame = df_feat, lib = \"1 113\", pred = \"28114 41392\",  embedded = True, showPlot = True, const_pred = True, columns = \"src_ip dst_ip protocol ttl ip_len ip_flag_df ip_flag_mf ip_flag_rb src_port dst_port tcp_flag_res tcp_flag_ns tcp_flag_cwr tcp_flag_ecn tcp_flag_urg tcp_flag_ack tcp_flag_push tcp_flag_reset tcp_flag_syn tcp_flag_fin mqtt_messagetype mqtt_messagelength is_attack\", target = \"is_attack\")"
      ],
      "metadata": {
        "_uuid": "60a5fabf-bf36-40cd-854d-be9ca3a483db",
        "_cell_guid": "5fc5b19a-81d7-4604-a23f-fb4ae4cfc6c4",
        "jupyter": {
          "outputs_hidden": false
        },
        "trusted": true,
        "id": "aNHpAId6JoI1"
      },
      "execution_count": null,
      "outputs": []
    },
    {
      "cell_type": "code",
      "source": [
        "print(simp)"
      ],
      "metadata": {
        "_uuid": "00820110-2583-4aa1-aa3a-26e2270b7d4d",
        "_cell_guid": "19055267-5cfa-4a17-8c5e-4eb4e2c495ce",
        "jupyter": {
          "outputs_hidden": false
        },
        "trusted": true,
        "id": "Rs1pzl00JoI1"
      },
      "execution_count": null,
      "outputs": []
    },
    {
      "cell_type": "code",
      "source": [
        "print(simp.Observations)"
      ],
      "metadata": {
        "_uuid": "a04c3c17-1fc0-41d1-83c7-e04e105aa8d8",
        "_cell_guid": "26fe9814-ec15-4070-bb67-fb6ae46647f7",
        "jupyter": {
          "outputs_hidden": false
        },
        "trusted": true,
        "id": "NofnLSm5JoI2"
      },
      "execution_count": null,
      "outputs": []
    },
    {
      "cell_type": "code",
      "source": [
        "print(simp.Predictions)"
      ],
      "metadata": {
        "_uuid": "6827f6a3-43e2-40ac-8e45-9f9670341325",
        "_cell_guid": "1bb40f82-49a4-486a-97ba-26d8cfc4aec2",
        "jupyter": {
          "outputs_hidden": false
        },
        "trusted": true,
        "id": "m7L_cjtwJoI2"
      },
      "execution_count": null,
      "outputs": []
    },
    {
      "cell_type": "code",
      "source": [
        "print(pyEDM.ComputeError(simp.Predictions,simp.Observations))"
      ],
      "metadata": {
        "_uuid": "65aa7551-b019-4757-89e6-04fb4a2027c9",
        "_cell_guid": "49b2ffbb-266e-459e-ac0c-f3a8c911d967",
        "jupyter": {
          "outputs_hidden": false
        },
        "trusted": true,
        "id": "CyI2OKjxJoI3"
      },
      "execution_count": null,
      "outputs": []
    },
    {
      "cell_type": "code",
      "source": [
        "#ccm = pyEDM.CCM( dataFrame = df_feat, E=2, columns = \"src_ip dst_ip protocol ttl ip_len src_port dst_port tcp_flag_res tcp_flag_ecn tcp_flag_urg mqtt_messagelength\", target = \"is_attack\",libSizes  = \"10 70 10\", showPlot=True, sample=100);"
      ],
      "metadata": {
        "_uuid": "c08dffe2-dc3f-44dd-8682-ed4561678ac3",
        "_cell_guid": "742cdb67-15ab-49f9-a78c-b90a2b017e86",
        "jupyter": {
          "outputs_hidden": false
        },
        "trusted": true,
        "id": "__hTOOysJoI3"
      },
      "execution_count": null,
      "outputs": []
    },
    {
      "cell_type": "markdown",
      "source": [
        "Simplex is a nearest neighbor projection. It locates the knn nearest neighbors to the query point (location in the state-space from which a prediction is desired) within the library phase-space. knn is typically set to E+1, where E is the system dimension. These knn points define an E+1 dimensional simplex in the state-space. The prediction is computed as the average of the weighted phase-space simplex projected Tp points ahead. Each neighbor is weighted proportional to their distance to the query point as described in Sugihara and May 1990. Simplex is the most direct projection technique in the EDM package, operates with minimal assumptions, and is the core algorithm for the evaluation of embedding dimension EmbedDimension(), evaluation of temporal forecast predictability PredictInterval(), convergent cross mapping CCM(), and multiview embedding Multiview()."
      ],
      "metadata": {
        "_uuid": "5a810486-f47a-43cd-af90-88734476db0c",
        "_cell_guid": "f4d5f04b-6aff-412d-9d41-67ebdc3fd01d",
        "trusted": true,
        "id": "uQdxp7q2JoI4"
      }
    },
    {
      "cell_type": "code",
      "source": [
        "\n",
        "sim = pyEDM.Simplex( dataFrame = df_feat, lib = \"1 30000\", pred = \"35001 45000\", predictFile=\"outputFile\" ,pathOut='./output' , parameterList= True, embedded = True, verbose= True, showPlot = True, const_pred = True, columns = \"is_attack\", target = \"is_attack\")"
      ],
      "metadata": {
        "_uuid": "3023d4de-8cbe-4026-acb7-01f161bea123",
        "_cell_guid": "4b8c9cdf-aaac-49fb-87c1-f1da94b026fa",
        "jupyter": {
          "outputs_hidden": false
        },
        "trusted": true,
        "id": "nkHB396LJoI4"
      },
      "execution_count": null,
      "outputs": []
    },
    {
      "cell_type": "code",
      "source": [
        "plt.title(\"Simplex\")\n",
        "plt.plot(sim['predictions'].time,sim['predictions'].Predictions, color='r', label='predictions')\n",
        "plt.plot(sim['predictions'].time, sim['predictions'].Observations, color='b', label='observations')\n",
        "plt.legend([\"Predictions\", \"Observations\"])\n",
        "plt.savefig(\"simplex.png\")\n",
        "plt.show()"
      ],
      "metadata": {
        "_uuid": "391237c1-ab17-4519-ae8e-f50c325656a3",
        "_cell_guid": "5dc219ea-9b3a-4fd6-8655-c7ca9d8e5e88",
        "jupyter": {
          "outputs_hidden": false
        },
        "trusted": true,
        "id": "_4EDuhSdJoI5"
      },
      "execution_count": null,
      "outputs": []
    },
    {
      "cell_type": "code",
      "source": [
        "print(sim)"
      ],
      "metadata": {
        "_uuid": "90ddd7c7-3c8d-4739-9c21-02979f9d6c37",
        "_cell_guid": "48a44cd9-13c3-468d-9eec-1da69b03323d",
        "jupyter": {
          "outputs_hidden": false
        },
        "trusted": true,
        "id": "CeAZkHnXJoI5"
      },
      "execution_count": null,
      "outputs": []
    },
    {
      "cell_type": "code",
      "source": [
        "print(sim['predictions'].Predictions)"
      ],
      "metadata": {
        "_uuid": "9fd98842-8980-40ba-b19d-c5c9bf142d5a",
        "_cell_guid": "6b4f7d6b-3aa3-4d8d-8714-94d72c58edb3",
        "jupyter": {
          "outputs_hidden": false
        },
        "trusted": true,
        "id": "9n9N9-_CJoI6"
      },
      "execution_count": null,
      "outputs": []
    },
    {
      "cell_type": "code",
      "source": [
        "print(pyEDM.ComputeError(sim['predictions'].Predictions,sim['predictions'].Observations))"
      ],
      "metadata": {
        "_uuid": "9581f9a7-05cb-41d3-9523-8277c150c3fa",
        "_cell_guid": "ebd78438-c237-471a-819a-a4129324c003",
        "jupyter": {
          "outputs_hidden": false
        },
        "trusted": true,
        "id": "hUf8OBhuJoI7"
      },
      "execution_count": null,
      "outputs": []
    },
    {
      "cell_type": "code",
      "source": [
        "#L = pyEDM.Multiview( dataFrame = df_feat, lib = \"1 10000\", pred = \"10001 19000\", E = 2, columns = \"src_ip dst_ip protocol ttl ip_len src_port dst_port tcp_flag_res tcp_flag_ecn tcp_flag_urg mqtt_messagelength\", target = \"is_attack\" )"
      ],
      "metadata": {
        "_uuid": "fdf7f583-e178-4d63-a418-caeaef1f5596",
        "_cell_guid": "57c89bc1-4a3c-425f-9343-5d0ede523517",
        "jupyter": {
          "outputs_hidden": false
        },
        "trusted": true,
        "id": "nyE9KW9LJoI7"
      },
      "execution_count": null,
      "outputs": []
    },
    {
      "cell_type": "markdown",
      "source": [
        "\n",
        "\n",
        "SMAP is a powerful prediction algorithm for nonlinear systems.\n",
        "\n",
        "SMAP predicts nonlinear systems with high accuracy by using a linear predictor. Here's the catch: SMAP limits the scope of the predictor's library (data that informs our prediction) to points near the query point, such that a linear relationship between the nonlinear system's variables is appropriate, since their relationship is linear if we \"zoom\" into just the current state. For example, consider the Lorenz system and its attractor. The relationship between\n",
        "and changes with time (positively correlated in one lobe and negatively in the other). Using a global linear predictor for the entire system would predict poorly, since the relationship between and is not globally linear. But if were to limit the scope of the library to only points on the lobe, or current state, of the query point, the relationship between and\n",
        "\n",
        "becomes approximately linear.\n",
        "\n",
        "SMAP's \"zoom\" feature is implemented by attributing each data point in the time series a weight, defined by the formula\n",
        ", where is a point's distance from the query point, and is the average distance from the query point (for normalization). The goal is that data far from the query point is attributed a low weight, where data close to the query point is given a high weight, such that the linear predictor is more \"informed\" by data in the same state as our query point than data in other states. This parameter should be proportional to how state dependant the system is, since the predictor needs a higher \"zoom\" level for highly nonlinear systems and a lower level for less nonlinear systems. We can use this property to evaluate how nonlinear the system is - varying and comparing the prediction accuracy (more on this later using the PredictNonlinear() function)."
      ],
      "metadata": {
        "_uuid": "a4c776c1-7ddb-419a-846e-8b4b7c4ae498",
        "_cell_guid": "a3781db5-29c9-49e7-aea7-e2f2c7dd59a4",
        "trusted": true,
        "id": "5ZP2bU2AJoI7"
      }
    },
    {
      "cell_type": "code",
      "source": [
        "smap = pyEDM.SMap( dataFrame = df_feat,lib=\"1 30500\", predictFile=\"outputFileSMAPAll\", pathOut='./output' ,pred=\"60000 70000\", theta = 2, E = 2, embedded = True,  columns = \"src_ip dst_ip protocol ttl ip_len src_port dst_port tcp_flag_res tcp_flag_ecn tcp_flag_urg mqtt_messagelength is_attack\", target = \"is_attack\" , showPlot=True  )"
      ],
      "metadata": {
        "_uuid": "46326e2a-5088-46f5-90c2-fc5429eb691f",
        "_cell_guid": "10256a2b-1353-4e99-b3ab-cf40943a9116",
        "jupyter": {
          "outputs_hidden": false
        },
        "trusted": true,
        "id": "mseH2ivmJoI8"
      },
      "execution_count": null,
      "outputs": []
    },
    {
      "cell_type": "code",
      "source": [
        "smap['predictions']"
      ],
      "metadata": {
        "_uuid": "0d440eec-04d1-48aa-8b9d-abf85954d2a0",
        "_cell_guid": "68faa091-f7c8-4dcb-964b-80e88522ee68",
        "jupyter": {
          "outputs_hidden": false
        },
        "trusted": true,
        "id": "GOK2IucFJoI8"
      },
      "execution_count": null,
      "outputs": []
    },
    {
      "cell_type": "code",
      "source": [
        "print(getStats(smap['predictions'].Predictions,smap['predictions'].Observations))"
      ],
      "metadata": {
        "_uuid": "4d773a3a-bc15-45be-8db0-a20148f5de76",
        "_cell_guid": "6b75d985-16dc-4d8b-8bc2-158451f6acc4",
        "jupyter": {
          "outputs_hidden": false
        },
        "trusted": true,
        "id": "Sam-3qkSJoI9"
      },
      "execution_count": null,
      "outputs": []
    },
    {
      "cell_type": "code",
      "source": [
        "print(getMeasures(smap['predictions']))"
      ],
      "metadata": {
        "_uuid": "9cf8a513-dc4d-4d21-b884-0f354ccabaab",
        "_cell_guid": "a4b9dc91-5437-45ec-8adf-1dd807e3ea51",
        "jupyter": {
          "outputs_hidden": false
        },
        "trusted": true,
        "id": "AbIG6fStJoI9"
      },
      "execution_count": null,
      "outputs": []
    },
    {
      "cell_type": "code",
      "source": [
        "print(smap)"
      ],
      "metadata": {
        "_uuid": "71f63eed-ba51-4653-8056-b9b5ba2594e0",
        "_cell_guid": "91f157d3-e5d8-4918-a401-946298e4aeed",
        "jupyter": {
          "outputs_hidden": false
        },
        "trusted": true,
        "id": "8H9BRoGAJoI-"
      },
      "execution_count": null,
      "outputs": []
    },
    {
      "cell_type": "code",
      "source": [
        "print(getMeasures(smap['predictions']))"
      ],
      "metadata": {
        "_uuid": "dff897ac-6d81-45b7-ab64-2944d9e7d56d",
        "_cell_guid": "f574da44-2c10-4b21-bf5b-3fc6cbd21b23",
        "jupyter": {
          "outputs_hidden": false
        },
        "trusted": true,
        "id": "zZaB_J6MJoI-"
      },
      "execution_count": null,
      "outputs": []
    },
    {
      "cell_type": "code",
      "source": [
        "\n",
        "f = plt.figure()\n",
        "f.set_figwidth(4)\n",
        "f.set_figheight(4)\n",
        "plt.title(\"Smap\")\n",
        "plt.plot(smap['predictions'].time,smap['predictions'].Predictions, color='r', label='predictions')\n",
        "plt.plot(smap['predictions'].time, smap['predictions'].Observations, color='b', label='observations')\n",
        "plt.legend([\"Predictions\", \"Observations\"])\n",
        "plt.savefig(\"smap.png\", transparent=True)\n",
        "plt.show()"
      ],
      "metadata": {
        "_uuid": "a220e229-a2f2-414c-8b6c-495dafad939c",
        "_cell_guid": "74cff820-6b6f-4d81-bd99-b682d0cf2a12",
        "jupyter": {
          "outputs_hidden": false
        },
        "trusted": true,
        "id": "IYxewCAgJoI_"
      },
      "execution_count": null,
      "outputs": []
    },
    {
      "cell_type": "code",
      "source": [
        ""
      ],
      "metadata": {
        "_uuid": "bb3c148a-45ab-4f13-9c42-5e2a3c0e89bd",
        "_cell_guid": "1c1e97b6-4213-4c14-a5ab-a2c45b7c0217",
        "jupyter": {
          "outputs_hidden": false
        },
        "trusted": true,
        "id": "x-4Xhm0zJoJA"
      },
      "execution_count": null,
      "outputs": []
    },
    {
      "cell_type": "code",
      "source": [
        "time = smap['predictions'].time.tolist()"
      ],
      "metadata": {
        "_uuid": "fb0dfb65-0911-44a2-8a78-cd91f55b2e96",
        "_cell_guid": "833dca2f-d012-4cdc-9db0-07924951e641",
        "jupyter": {
          "outputs_hidden": false
        },
        "trusted": true,
        "id": "KlHtkobHJoJA"
      },
      "execution_count": null,
      "outputs": []
    },
    {
      "cell_type": "code",
      "source": [
        ""
      ],
      "metadata": {
        "_uuid": "3329ea2b-83e9-48af-b2de-2a34b48a8357",
        "_cell_guid": "58f5cff3-8d56-4479-9557-079756e6efcd",
        "jupyter": {
          "outputs_hidden": false
        },
        "trusted": true,
        "id": "G97ryLaAJoJB"
      },
      "execution_count": null,
      "outputs": []
    },
    {
      "cell_type": "code",
      "source": [
        ""
      ],
      "metadata": {
        "_uuid": "f35738cb-5070-46ce-ae73-b0f41083c01d",
        "_cell_guid": "25cbc80a-12e5-4a63-b8d0-d5d079641d64",
        "jupyter": {
          "outputs_hidden": false
        },
        "trusted": true,
        "id": "hzaYd5o9JoJB"
      },
      "execution_count": null,
      "outputs": []
    },
    {
      "cell_type": "code",
      "source": [
        "yPred =  smap['predictions']\n",
        "#yPred.info"
      ],
      "metadata": {
        "_uuid": "d2a04bdf-fb2c-48a1-814e-b7153ecf583e",
        "_cell_guid": "e719d618-d875-41cd-97b1-c9d8dac895dc",
        "jupyter": {
          "outputs_hidden": false
        },
        "trusted": true,
        "id": "CLH4--kbJoJB"
      },
      "execution_count": null,
      "outputs": []
    },
    {
      "cell_type": "code",
      "source": [
        "yPred[\"time\"] = yPred['time'].astype(int)"
      ],
      "metadata": {
        "_uuid": "861fa8bc-5826-499c-9a78-ff281b5cc672",
        "_cell_guid": "0cf29dd2-4e37-4bc3-82ca-1243ea9314de",
        "jupyter": {
          "outputs_hidden": false
        },
        "trusted": true,
        "id": "xyhdUJlxJoJC"
      },
      "execution_count": null,
      "outputs": []
    },
    {
      "cell_type": "code",
      "source": [
        "#yPred.info()"
      ],
      "metadata": {
        "_uuid": "48965374-114a-4e12-a00b-eecda7d63356",
        "_cell_guid": "1045881d-ea25-4f5b-ac4b-319459ce5d2a",
        "jupyter": {
          "outputs_hidden": false
        },
        "trusted": true,
        "id": "Z4Ew4Z2gJoJC"
      },
      "execution_count": null,
      "outputs": []
    },
    {
      "cell_type": "code",
      "source": [
        "errorcompute = pyEDM.ComputeError(smap['predictions'].Predictions,smap['predictions'].Observations)"
      ],
      "metadata": {
        "_uuid": "58b98dcd-4730-475a-9278-c76c0be10b3a",
        "_cell_guid": "b020686c-02a1-4a68-8ba6-828f9477e077",
        "jupyter": {
          "outputs_hidden": false
        },
        "trusted": true,
        "id": "vGlpVOg7JoJC"
      },
      "execution_count": null,
      "outputs": []
    },
    {
      "cell_type": "code",
      "source": [
        "print(errorcompute)"
      ],
      "metadata": {
        "_uuid": "95c31255-954f-4ea1-9c2c-8bd4c4e1f011",
        "_cell_guid": "1ee6af0d-33cf-48f2-97ba-ad3b0735b08c",
        "jupyter": {
          "outputs_hidden": false
        },
        "trusted": true,
        "id": "saTwJqSDJoJC"
      },
      "execution_count": null,
      "outputs": []
    },
    {
      "cell_type": "code",
      "source": [
        ""
      ],
      "metadata": {
        "_uuid": "ed646ef8-5eaa-4ccb-9162-a5d2e8c3447a",
        "_cell_guid": "19abd28c-a6f1-4119-9cfc-d0f137d6ab27",
        "jupyter": {
          "outputs_hidden": false
        },
        "trusted": true,
        "id": "mxZbEYAfJoJD"
      },
      "execution_count": null,
      "outputs": []
    },
    {
      "cell_type": "code",
      "source": [
        "#f = plt.figure(figsize=(6, 6))\n",
        "\n",
        "#f.set_figwidth(10)\n",
        "#f.set_figheight(5)   # addind first subplot \n",
        "\n",
        "plt.figure(figsize=(10, 6)) \n",
        "fig, ax1 = plt.subplots(1,2) \n",
        "#ax1[0].set_xlim(int(min(time)), int(max(time)),1000)\n",
        "#ax1[1].set_xlim(int(min(time)), int(max(time)),1000)\n",
        "\n",
        "#plt.xticks( range(int(min(time)),int(max(time)),1000) )\n",
        "ax1[1].plot(yPred.time,yPred.Predictions, color='r', label='predictions')\n",
        "\n",
        "   # addding second subplot \n",
        "#plt.subplot(122) \n",
        "ax1[0].plot(yPred.time, yPred.Observations, color='b', label='observations')\n",
        "\n",
        "fig.suptitle(errorcompute)\n",
        "plt.xlabel('Time')\n",
        "plt.ylabel('Target value')\n",
        "#plt.show()\n",
        "plt.savefig(\"smapSeparate.png\", transparent=True)"
      ],
      "metadata": {
        "_uuid": "0e9a5fcd-3c5b-4912-84b8-098a8725b59f",
        "_cell_guid": "bf3af2c2-4929-4e10-9254-b5d219476711",
        "jupyter": {
          "outputs_hidden": false
        },
        "trusted": true,
        "id": "EhoxI3h5JoJD"
      },
      "execution_count": null,
      "outputs": []
    },
    {
      "cell_type": "code",
      "source": [
        "fig = plt.figure(facecolor='white')\n",
        "gs = fig.add_gridspec(1, 2, hspace=0, wspace=0)\n",
        "(ax1, ax2)= gs.subplots(sharex='col', sharey='row')\n",
        "title =f'MAE {errorcompute[\"MAE\"]} RMSE {errorcompute[\"RMSE\"]} \\n rho {errorcompute[\"rho\"]}'\n",
        "fig.suptitle(title)\n",
        "ax1.set_ylabel(\"Target value\", loc='center')\n",
        "ax1.set_xlabel('Time', loc='center')\n",
        "#ax1.set_xlim(10000, 100000)\n",
        "ax1.plot(yPred.time, yPred.Observations, color='b', label='observations')\n",
        "#ax2.set_xlim(10000, 100000)\n",
        "ax2.set_xlabel('Time', loc='center')\n",
        "\n",
        "ax2.plot(yPred.time,yPred.Predictions, color='r', label='predictions')\n",
        "ax1.set_facecolor(\"white\")\n",
        "ax2.set_facecolor(\"white\")\n",
        "\n",
        "#for ax in axs.flat:\n",
        " #   ax.label_outer()\n",
        "plt.savefig(\"smapSeparate1.png\", transparent=False)"
      ],
      "metadata": {
        "_uuid": "a377381d-f0f7-4b6a-8d2f-ad837486db9e",
        "_cell_guid": "f69c2c4f-acee-4d36-8b28-5611519ced34",
        "jupyter": {
          "outputs_hidden": false
        },
        "trusted": true,
        "id": "oXLZwmbGJoJD"
      },
      "execution_count": null,
      "outputs": []
    },
    {
      "cell_type": "code",
      "source": [
        "print(pyEDM.ComputeError(smap['predictions'].Predictions,smap['predictions'].Observations))"
      ],
      "metadata": {
        "_uuid": "224a1b6e-53e4-4269-a208-5394030c2020",
        "_cell_guid": "05fb75e7-4e0f-4ea2-9321-c20ba2bb52da",
        "jupyter": {
          "outputs_hidden": false
        },
        "trusted": true,
        "id": "H_y-XySnJoJE"
      },
      "execution_count": null,
      "outputs": []
    },
    {
      "cell_type": "code",
      "source": [
        "pyEDM.PlotObsPred( smap[\"predictions\"],  \"Normal Lib 10000:100000\", 2, 1 )"
      ],
      "metadata": {
        "_uuid": "0422b538-82d8-4bf2-a02d-c0cec3a7d9ad",
        "_cell_guid": "bc148ea3-d78e-4f66-b9eb-aedf1ea69949",
        "jupyter": {
          "outputs_hidden": false
        },
        "trusted": true,
        "id": "BWJq9MC7JoJE"
      },
      "execution_count": null,
      "outputs": []
    },
    {
      "cell_type": "code",
      "source": [
        "#pyEDM.savefig('books_read.png')"
      ],
      "metadata": {
        "_uuid": "de403030-99b4-42a7-99db-a7d0d526be12",
        "_cell_guid": "8a114869-7dfc-44f1-95fe-3ba68bb5bcb8",
        "jupyter": {
          "outputs_hidden": false
        },
        "trusted": true,
        "id": "wSKuqroKJoJF"
      },
      "execution_count": null,
      "outputs": []
    },
    {
      "cell_type": "code",
      "source": [
        "smap = pyEDM.SMap( dataFrame = df_feat,lib=\"1 30000\", predictFile=\"outputFileSMAPAttack\", pred=\"40001 50000\", theta = 4, E = 1, embedded = True,  columns = \"is_attack\", target = \"is_attack\"  , showPlot=True )"
      ],
      "metadata": {
        "_uuid": "69f439f4-3b79-47dd-a513-696005894d30",
        "_cell_guid": "b04ae663-4228-4c20-8fd0-bb9f831e1fb2",
        "jupyter": {
          "outputs_hidden": false
        },
        "trusted": true,
        "id": "2eHrph94JoJF"
      },
      "execution_count": null,
      "outputs": []
    },
    {
      "cell_type": "code",
      "source": [
        "'src_ip', 'dst_ip', 'protocol', 'ttl', 'ip_len', 'ip_flag_df', 'ip_flag_mf', 'ip_flag_rb', 'src_port', 'dst_port', 'tcp_flag_res', 'tcp_flag_ns', 'tcp_flag_cwr', 'tcp_flag_ecn', 'tcp_flag_urg', 'tcp_flag_ack', 'tcp_flag_push', 'tcp_flag_reset', 'tcp_flag_syn', 'tcp_flag_fin', 'mqtt_messagetype', 'mqtt_messagelength', 'is_attack'"
      ],
      "metadata": {
        "_uuid": "66d4c43d-c90a-47f8-9e04-90b1c72214fb",
        "_cell_guid": "0c4514a9-aa92-476d-804b-1f1e453c809c",
        "jupyter": {
          "outputs_hidden": false
        },
        "trusted": true,
        "id": "_bGR3t-gJoJG"
      },
      "execution_count": null,
      "outputs": []
    },
    {
      "cell_type": "code",
      "source": [
        "print(getMeasures(smap['predictions']))"
      ],
      "metadata": {
        "_uuid": "b6f8344f-c93e-434b-8c41-946992b66916",
        "_cell_guid": "4707b745-40ed-41e4-afae-53ee8ea42b60",
        "jupyter": {
          "outputs_hidden": false
        },
        "trusted": true,
        "id": "MNb7iWY8JoJG"
      },
      "execution_count": null,
      "outputs": []
    },
    {
      "cell_type": "code",
      "source": [
        ""
      ],
      "metadata": {
        "_uuid": "4176618f-5921-4ff1-83e1-67548fdaf47a",
        "_cell_guid": "c0d1c776-bbbd-43a6-a98d-b25923bb86e1",
        "jupyter": {
          "outputs_hidden": false
        },
        "trusted": true,
        "id": "KCv1zc3MJoJG"
      },
      "execution_count": null,
      "outputs": []
    },
    {
      "cell_type": "code",
      "source": [
        "print(smap)"
      ],
      "metadata": {
        "_uuid": "354205a2-564b-415c-b9b7-8dc23fcdfb58",
        "_cell_guid": "5a803c2b-1a45-433c-a44c-c2ff9705ec65",
        "jupyter": {
          "outputs_hidden": false
        },
        "trusted": true,
        "id": "ItgjhKfQJoJG"
      },
      "execution_count": null,
      "outputs": []
    },
    {
      "cell_type": "code",
      "source": [
        "print(smap['predictions'])"
      ],
      "metadata": {
        "_uuid": "2e6d3ab4-76c5-4df5-8464-ea9138fee5a4",
        "_cell_guid": "fa497f62-f0ad-409a-88d4-b8fadda84270",
        "jupyter": {
          "outputs_hidden": false
        },
        "trusted": true,
        "id": "0yCMVKsyJoJG"
      },
      "execution_count": null,
      "outputs": []
    },
    {
      "cell_type": "code",
      "source": [
        "print(pyEDM.ComputeError(smap['predictions'].Predictions,smap['predictions'].Observations))"
      ],
      "metadata": {
        "_uuid": "054e7dbc-ee59-45bc-b91b-b5a723a8b23c",
        "_cell_guid": "78c1f32b-9457-4123-a50c-0cc2ffe300f3",
        "jupyter": {
          "outputs_hidden": false
        },
        "trusted": true,
        "id": "DN3ltVMYJoJH"
      },
      "execution_count": null,
      "outputs": []
    },
    {
      "cell_type": "code",
      "source": [
        "df_feat"
      ],
      "metadata": {
        "_uuid": "82e3a525-c83e-41dd-9688-c629a4bcee09",
        "_cell_guid": "402a3377-2aa2-48cf-85c9-afe88715e88d",
        "jupyter": {
          "outputs_hidden": false
        },
        "trusted": true,
        "id": "YO731jGLJoJH"
      },
      "execution_count": null,
      "outputs": []
    },
    {
      "cell_type": "code",
      "source": [
        "smap1 = pyEDM.SMap( dataFrame = df_feat,lib=\"1 10000\", pred=\"50000 60000\", theta = 4, E = 24, embedded = True,  columns = \"src_ip dst_ip  protocol ttl ip_len ip_flag_df ip_flag_mf ip_flag_rb src_port dst_port tcp_flag_res tcp_flag_ns tcp_flag_cwr tcp_flag_ecn tcp_flag_urg tcp_flag_ack tcp_flag_push tcp_flag_reset tcp_flag_syn tcp_flag_fin mqtt_messagetype mqtt_messagelength is_attack\", target = \"is_attack\" , predictFile=\"outputFileSMAPAll\" , showPlot=True )"
      ],
      "metadata": {
        "_uuid": "e11f5eb6-545e-4c29-a76f-57230f23e986",
        "_cell_guid": "491b5191-223f-4711-b655-a171f41bd5a1",
        "jupyter": {
          "outputs_hidden": false
        },
        "trusted": true,
        "id": "MkTHIJj9JoJI"
      },
      "execution_count": null,
      "outputs": []
    },
    {
      "cell_type": "code",
      "source": [
        "print(getMeasures(smap1['predictions']))"
      ],
      "metadata": {
        "_uuid": "3e38e7ef-1b63-435c-b299-568dbe0365ab",
        "_cell_guid": "a2b17265-755d-4f22-a1bf-f0a3952c0c4a",
        "jupyter": {
          "outputs_hidden": false
        },
        "trusted": true,
        "id": "TRQZaRh1JoJK"
      },
      "execution_count": null,
      "outputs": []
    },
    {
      "cell_type": "code",
      "source": [
        "smap1CE =  pyEDM.ComputeError(smap1['predictions'].Predictions,smap1['predictions'].Observations)"
      ],
      "metadata": {
        "_uuid": "4d831a85-aa20-4584-8e05-eaadd89ec6a6",
        "_cell_guid": "2cf7a7e2-d149-42a5-ae64-8066937108d2",
        "jupyter": {
          "outputs_hidden": false
        },
        "trusted": true,
        "id": "mzkjVTiCJoJM"
      },
      "execution_count": null,
      "outputs": []
    },
    {
      "cell_type": "code",
      "source": [
        "fig = plt.figure(facecolor='white')\n",
        "gs = fig.add_gridspec(1, 2, hspace=0, wspace=0)\n",
        "(ax1, ax2)= gs.subplots(sharex='col', sharey='row')\n",
        "title =f'MAE {smap1CE[\"MAE\"]} RMSE {smap1CE[\"RMSE\"]} \\n rho {smap1CE[\"rho\"]}'\n",
        "fig.suptitle(title)\n",
        "ax1.set_ylabel(\"Target value\", loc='center')\n",
        "ax1.set_xlabel('Time', loc='center')\n",
        "#ax1.set_xlim(10000, 100000)\n",
        "ax1.plot(smap1['predictions'].time, smap1['predictions'].Observations, color='b', label='observations')\n",
        "#ax2.set_xlim(10000, 100000)\n",
        "ax2.set_xlabel('Time', loc='center')\n",
        "\n",
        "ax2.plot(smap1['predictions'].time,smap1['predictions'].Predictions, color='r', label='predictions')\n",
        "ax1.set_facecolor(\"white\")\n",
        "ax2.set_facecolor(\"white\")\n",
        "\n",
        "#for ax in axs.flat:\n",
        " #   ax.label_outer()\n",
        "plt.savefig(\"smapAll.png\", transparent=False)"
      ],
      "metadata": {
        "_uuid": "45f2995f-96e1-461c-ac10-67e05142d097",
        "_cell_guid": "4fc8489c-8821-4676-ba2d-392a96692582",
        "jupyter": {
          "outputs_hidden": false
        },
        "trusted": true,
        "id": "En9BkXl7JoJN"
      },
      "execution_count": null,
      "outputs": []
    },
    {
      "cell_type": "code",
      "source": [
        "print(smap1)"
      ],
      "metadata": {
        "_uuid": "8a62c7c8-1ad7-4ba5-99dc-02d910cb8351",
        "_cell_guid": "e4cabcfc-e903-4052-a03c-96be1b5874e1",
        "jupyter": {
          "outputs_hidden": false
        },
        "trusted": true,
        "id": "Iz-fuJPpJoJO"
      },
      "execution_count": null,
      "outputs": []
    },
    {
      "cell_type": "code",
      "source": [
        "print(pyEDM.ComputeError(smap1['predictions'].Predictions,smap1['predictions'].Observations))"
      ],
      "metadata": {
        "_uuid": "6f6355b2-9d41-419e-9674-02a26525ad90",
        "_cell_guid": "714724c0-6afd-4826-87b0-9e67ba566035",
        "jupyter": {
          "outputs_hidden": false
        },
        "trusted": true,
        "id": "NAj4g5fRJoJP"
      },
      "execution_count": null,
      "outputs": []
    },
    {
      "cell_type": "code",
      "source": [
        "print(smap1[\"coefficients\"])"
      ],
      "metadata": {
        "_uuid": "1e8c2387-93d7-40a3-9214-f3d1e7e4f656",
        "_cell_guid": "3bea9aaf-c9ce-4d79-b67c-284a9f1c87e4",
        "jupyter": {
          "outputs_hidden": false
        },
        "trusted": true,
        "id": "iv1ujJ1DJoJP"
      },
      "execution_count": null,
      "outputs": []
    },
    {
      "cell_type": "markdown",
      "source": [
        "One of the corollaries to the Generalized Takens Theorem is that it should be possible to cross predict or cross map between variables that are observed from the same system. Suppose that in some dynamical system involving variables X and Y, X causes Y. Since X and Y belong to the same dynamical system, their reconstructions (via embeddings) Mx, and My, also map to the same system.\n",
        "\n",
        "The causal variable X leaves a signature on the affected variable Y, and consequently, the reconstructed states based on Y can be used to cross predict the values of X. CCM leverages this property to infer causality by predicting X using My's library of points (or vice versa for the other direction of causality), while assessing improvements in cross map predictability as larger and larger random samplings of My are used. If the prediction skill of X increases and saturates as the entire My is used, this provides evidence that X is casually influencing Y."
      ],
      "metadata": {
        "_uuid": "e8246a4f-0f98-48df-a7c3-f85ab1b4e5e8",
        "_cell_guid": "2cef6ef6-1abb-4fac-ad9c-af4e552283bd",
        "trusted": true,
        "id": "vA47IUzLJoJQ"
      }
    },
    {
      "cell_type": "code",
      "source": [
        "smap2 = pyEDM.SMap( dataFrame = df_feat,lib=\"1 20000\", pred=\"60000 65000\", theta = 4, E = 10, embedded = True,  columns = \"src_ip dst_ip  protocol ttl ip_len src_port dst_port tcp_flag_push tcp_flag_reset is_attack\", target = \"is_attack\" , predictFile=\"outputFileSMAPAttack\" , showPlot=True )"
      ],
      "metadata": {
        "_uuid": "27b81c61-110b-4f55-a42f-2148a5be3dd3",
        "_cell_guid": "784b8a06-629f-441b-acbe-eed83c4d3f67",
        "jupyter": {
          "outputs_hidden": false
        },
        "trusted": true,
        "id": "nx3U9x33JoJR"
      },
      "execution_count": null,
      "outputs": []
    },
    {
      "cell_type": "code",
      "source": [
        "smap2CE =  pyEDM.ComputeError(smap2['predictions'].Predictions,smap2['predictions'].Observations)"
      ],
      "metadata": {
        "_uuid": "8e42e009-88bb-43ed-9f24-231274a6fad0",
        "_cell_guid": "07eae742-ef4c-4528-b268-dfcb3f669238",
        "jupyter": {
          "outputs_hidden": false
        },
        "trusted": true,
        "id": "kkuLxcetJoJS"
      },
      "execution_count": null,
      "outputs": []
    },
    {
      "cell_type": "code",
      "source": [
        "fig = plt.figure(facecolor='white')\n",
        "gs = fig.add_gridspec(1, 2, hspace=0, wspace=0)\n",
        "(ax1, ax2)= gs.subplots(sharex='col', sharey='row')\n",
        "title =f'MAE {smap2CE[\"MAE\"]} RMSE {errorcompute[\"RMSE\"]} \\n rho {errorcompute[\"rho\"]}'\n",
        "fig.suptitle(title)\n",
        "ax1.set_ylabel(\"Target value\", loc='center')\n",
        "ax1.set_xlabel('Time', loc='center')\n",
        "#ax1.set_xlim(10000, 100000)\n",
        "ax1.plot(smap2['predictions'].time, smap2['predictions'].Observations, color='b', label='observations')\n",
        "#ax2.set_xlim(10000, 100000)\n",
        "ax2.set_xlabel('Time', loc='center')\n",
        "\n",
        "ax2.plot(smap2['predictions'].time,smap2['predictions'].Predictions, color='r', label='predictions')\n",
        "ax1.set_facecolor(\"white\")\n",
        "ax2.set_facecolor(\"white\")\n",
        "\n",
        "#for ax in axs.flat:\n",
        " #   ax.label_outer()\n",
        "plt.savefig(\"smapwith10columns.png\", transparent=False)"
      ],
      "metadata": {
        "_uuid": "c7e7e3d9-6dc8-443f-b1d9-36b66e4c193d",
        "_cell_guid": "8eb41d24-c0a6-42d0-9d5b-cfb50cf43895",
        "jupyter": {
          "outputs_hidden": false
        },
        "trusted": true,
        "id": "aBYAP2WBJoJT"
      },
      "execution_count": null,
      "outputs": []
    },
    {
      "cell_type": "code",
      "source": [
        "print(smap2)"
      ],
      "metadata": {
        "_uuid": "9aaad8b5-53e9-4164-b623-24079656d902",
        "_cell_guid": "2b07265d-144d-47ad-a395-7f85920ab9a9",
        "jupyter": {
          "outputs_hidden": false
        },
        "trusted": true,
        "id": "N4aoZTMpJoJU"
      },
      "execution_count": null,
      "outputs": []
    },
    {
      "cell_type": "code",
      "source": [
        "print(getMeasures(smap2['predictions']))"
      ],
      "metadata": {
        "_uuid": "7d7992dd-0381-4640-91f7-dccc2460d7ea",
        "_cell_guid": "0320a60c-067b-4895-bfbf-d91d66cddefd",
        "jupyter": {
          "outputs_hidden": false
        },
        "trusted": true,
        "id": "Y4ISc-_YJoJU"
      },
      "execution_count": null,
      "outputs": []
    },
    {
      "cell_type": "code",
      "source": [
        "print(smap2['coefficients'])"
      ],
      "metadata": {
        "_uuid": "079a5268-29e5-46d7-888c-dc58fd123be1",
        "_cell_guid": "3c18d747-c554-4c9d-9fb6-e13e5c60869c",
        "jupyter": {
          "outputs_hidden": false
        },
        "trusted": true,
        "id": "dPgopeeoJoJV"
      },
      "execution_count": null,
      "outputs": []
    },
    {
      "cell_type": "code",
      "source": [
        ""
      ],
      "metadata": {
        "_uuid": "0f232030-1fa5-4840-b57d-72d757c8b3c1",
        "_cell_guid": "647e036a-e30d-4513-bc99-f82f84999f5e",
        "jupyter": {
          "outputs_hidden": false
        },
        "trusted": true,
        "id": "t_yZQjoQJoJV"
      },
      "execution_count": null,
      "outputs": []
    },
    {
      "cell_type": "code",
      "source": [
        "print(\"ccm about to start\")\n",
        "\n",
        "ccm = pyEDM.CCM( dataFrame = df_feat, E=1, columns = \"src_ip\", random=True, target = \"is_attack\",libSizes  = \"10 70 10\", sample = 100, showPlot=True);"
      ],
      "metadata": {
        "_uuid": "6c18ddce-a237-4e02-8d57-9f880b65133f",
        "_cell_guid": "4c03f480-e1ad-46ba-aac6-347c6bb0ce08",
        "jupyter": {
          "outputs_hidden": false
        },
        "trusted": true,
        "id": "9VXvxlbtJoJV"
      },
      "execution_count": null,
      "outputs": []
    },
    {
      "cell_type": "code",
      "source": [
        "ccm = pyEDM.CCM( dataFrame = df_feat, E=1, predictFile=\"outputFileCCM\",  columns = \"src_ip dst_ip protocol ttl ip_len src_port dst_port tcp_flag_push tcp_flag_reset\", target = \"is_attack\",libSizes  = \"100 700 100\", showPlot=True, sample=1000);"
      ],
      "metadata": {
        "_uuid": "17ce881e-a125-4dc2-8b4a-86c248adac18",
        "_cell_guid": "87faca0a-2dad-4e0f-8cf8-8b5e0d695231",
        "jupyter": {
          "outputs_hidden": false
        },
        "trusted": true,
        "id": "YNk3jcWSJoJX"
      },
      "execution_count": null,
      "outputs": []
    },
    {
      "cell_type": "code",
      "source": [
        "print(dir(ccm))"
      ],
      "metadata": {
        "_uuid": "ec400456-0749-4dc9-b3aa-83accea6f26d",
        "_cell_guid": "a759a0a4-55dd-4fda-82fa-fb3fc6d94d32",
        "jupyter": {
          "outputs_hidden": false
        },
        "trusted": true,
        "id": "I1SaN2HYJoJX"
      },
      "execution_count": null,
      "outputs": []
    },
    {
      "cell_type": "code",
      "source": [
        ""
      ],
      "metadata": {
        "id": "U3B8_qh-JoJY"
      },
      "execution_count": null,
      "outputs": []
    },
    {
      "cell_type": "code",
      "source": [
        ""
      ],
      "metadata": {
        "id": "CZXrzHr-JoJY"
      },
      "execution_count": null,
      "outputs": []
    },
    {
      "cell_type": "code",
      "source": [
        ""
      ],
      "metadata": {
        "id": "N4zsrVoEJoJZ"
      },
      "execution_count": null,
      "outputs": []
    },
    {
      "cell_type": "code",
      "source": [
        ""
      ],
      "metadata": {
        "id": "u4Ps0OekJoJZ"
      },
      "execution_count": null,
      "outputs": []
    },
    {
      "cell_type": "code",
      "source": [
        ""
      ],
      "metadata": {
        "id": "LRFsduegJoJa"
      },
      "execution_count": null,
      "outputs": []
    }
  ]
}